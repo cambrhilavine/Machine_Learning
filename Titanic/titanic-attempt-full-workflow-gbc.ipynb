{
 "cells": [
  {
   "cell_type": "markdown",
   "id": "08a1cd90",
   "metadata": {},
   "source": [
    "## Full workflow for my attempts at the Titanic challenge"
   ]
  },
  {
   "cell_type": "markdown",
   "id": "0a614a16",
   "metadata": {},
   "source": [
    "### Submitted to: https://www.kaggle.com/competitions/titanic"
   ]
  },
  {
   "cell_type": "markdown",
   "id": "777820c7",
   "metadata": {},
   "source": [
    "#### This serves as the basis for cleanup and feature engineering. This notebook ends with a solution using gradient boosted trees that results in a score of 0.775 on the test data."
   ]
  },
  {
   "cell_type": "code",
   "execution_count": 1,
   "id": "992cb694",
   "metadata": {
    "_cell_guid": "b1076dfc-b9ad-4769-8c92-a6c4dae69d19",
    "_uuid": "8f2839f25d086af736a60e9eeb907d3b93b6e0e5",
    "execution": {
     "iopub.execute_input": "2022-04-07T16:15:47.168623Z",
     "iopub.status.busy": "2022-04-07T16:15:47.166427Z",
     "iopub.status.idle": "2022-04-07T16:15:48.390449Z",
     "shell.execute_reply": "2022-04-07T16:15:48.391502Z",
     "shell.execute_reply.started": "2022-04-07T15:42:10.994069Z"
    },
    "papermill": {
     "duration": 1.306317,
     "end_time": "2022-04-07T16:15:48.392055",
     "exception": false,
     "start_time": "2022-04-07T16:15:47.085738",
     "status": "completed"
    },
    "scrolled": true,
    "tags": []
   },
   "outputs": [],
   "source": [
    "import numpy as np\n",
    "import pandas as pd\n",
    "import warnings\n",
    "warnings.filterwarnings(\"ignore\")\n",
    "\n",
    "import seaborn as sns\n",
    "import matplotlib.pyplot as plt\n",
    "palette=sns.color_palette('magma')\n",
    "sns.set(palette=palette)"
   ]
  },
  {
   "cell_type": "markdown",
   "id": "b4565405",
   "metadata": {},
   "source": [
    "## Import and EDA"
   ]
  },
  {
   "cell_type": "code",
   "execution_count": 2,
   "id": "4a043df4",
   "metadata": {
    "execution": {
     "iopub.execute_input": "2022-04-07T16:15:48.539756Z",
     "iopub.status.busy": "2022-04-07T16:15:48.538803Z",
     "iopub.status.idle": "2022-04-07T16:15:48.567822Z",
     "shell.execute_reply": "2022-04-07T16:15:48.568542Z",
     "shell.execute_reply.started": "2022-04-07T15:42:23.782621Z"
    },
    "papermill": {
     "duration": 0.103238,
     "end_time": "2022-04-07T16:15:48.568778",
     "exception": false,
     "start_time": "2022-04-07T16:15:48.465540",
     "status": "completed"
    },
    "tags": []
   },
   "outputs": [],
   "source": [
    "train = pd.read_csv('../train.csv')\n",
    "test = pd.read_csv('../test.csv')"
   ]
  },
  {
   "cell_type": "markdown",
   "id": "cbc06d0a",
   "metadata": {},
   "source": [
    "### Check out the info and descriptive stats"
   ]
  },
  {
   "cell_type": "code",
   "execution_count": 3,
   "id": "369f3f5a",
   "metadata": {
    "execution": {
     "iopub.execute_input": "2022-04-07T16:15:48.715139Z",
     "iopub.status.busy": "2022-04-07T16:15:48.714421Z",
     "iopub.status.idle": "2022-04-07T16:15:48.760973Z",
     "shell.execute_reply": "2022-04-07T16:15:48.761717Z",
     "shell.execute_reply.started": "2022-04-07T15:42:43.654997Z"
    },
    "papermill": {
     "duration": 0.122538,
     "end_time": "2022-04-07T16:15:48.761976",
     "exception": false,
     "start_time": "2022-04-07T16:15:48.639438",
     "status": "completed"
    },
    "tags": []
   },
   "outputs": [
    {
     "name": "stdout",
     "output_type": "stream",
     "text": [
      "INFO: TRAIN\n",
      "<class 'pandas.core.frame.DataFrame'>\n",
      "RangeIndex: 891 entries, 0 to 890\n",
      "Data columns (total 12 columns):\n",
      " #   Column       Non-Null Count  Dtype  \n",
      "---  ------       --------------  -----  \n",
      " 0   PassengerId  891 non-null    int64  \n",
      " 1   Survived     891 non-null    int64  \n",
      " 2   Pclass       891 non-null    int64  \n",
      " 3   Name         891 non-null    object \n",
      " 4   Sex          891 non-null    object \n",
      " 5   Age          714 non-null    float64\n",
      " 6   SibSp        891 non-null    int64  \n",
      " 7   Parch        891 non-null    int64  \n",
      " 8   Ticket       891 non-null    object \n",
      " 9   Fare         891 non-null    float64\n",
      " 10  Cabin        204 non-null    object \n",
      " 11  Embarked     889 non-null    object \n",
      "dtypes: float64(2), int64(5), object(5)\n",
      "memory usage: 83.7+ KB\n",
      "**************************************************\n",
      "INFO: TEST\n",
      "<class 'pandas.core.frame.DataFrame'>\n",
      "RangeIndex: 418 entries, 0 to 417\n",
      "Data columns (total 11 columns):\n",
      " #   Column       Non-Null Count  Dtype  \n",
      "---  ------       --------------  -----  \n",
      " 0   PassengerId  418 non-null    int64  \n",
      " 1   Pclass       418 non-null    int64  \n",
      " 2   Name         418 non-null    object \n",
      " 3   Sex          418 non-null    object \n",
      " 4   Age          332 non-null    float64\n",
      " 5   SibSp        418 non-null    int64  \n",
      " 6   Parch        418 non-null    int64  \n",
      " 7   Ticket       418 non-null    object \n",
      " 8   Fare         417 non-null    float64\n",
      " 9   Cabin        91 non-null     object \n",
      " 10  Embarked     418 non-null    object \n",
      "dtypes: float64(2), int64(4), object(5)\n",
      "memory usage: 36.0+ KB\n"
     ]
    }
   ],
   "source": [
    "print('INFO: TRAIN')\n",
    "train.info()\n",
    "print(50*'*')\n",
    "print('INFO: TEST')\n",
    "test.info()"
   ]
  },
  {
   "cell_type": "code",
   "execution_count": 4,
   "id": "0c2c5061",
   "metadata": {
    "execution": {
     "iopub.execute_input": "2022-04-07T16:15:48.910341Z",
     "iopub.status.busy": "2022-04-07T16:15:48.909576Z",
     "iopub.status.idle": "2022-04-07T16:15:48.956542Z",
     "shell.execute_reply": "2022-04-07T16:15:48.957077Z",
     "shell.execute_reply.started": "2022-04-07T15:43:04.023043Z"
    },
    "papermill": {
     "duration": 0.121675,
     "end_time": "2022-04-07T16:15:48.957274",
     "exception": false,
     "start_time": "2022-04-07T16:15:48.835599",
     "status": "completed"
    },
    "tags": []
   },
   "outputs": [
    {
     "name": "stdout",
     "output_type": "stream",
     "text": [
      "STATS: TRAIN\n"
     ]
    },
    {
     "data": {
      "text/html": [
       "<div>\n",
       "<style scoped>\n",
       "    .dataframe tbody tr th:only-of-type {\n",
       "        vertical-align: middle;\n",
       "    }\n",
       "\n",
       "    .dataframe tbody tr th {\n",
       "        vertical-align: top;\n",
       "    }\n",
       "\n",
       "    .dataframe thead th {\n",
       "        text-align: right;\n",
       "    }\n",
       "</style>\n",
       "<table border=\"1\" class=\"dataframe\">\n",
       "  <thead>\n",
       "    <tr style=\"text-align: right;\">\n",
       "      <th></th>\n",
       "      <th>count</th>\n",
       "      <th>mean</th>\n",
       "      <th>std</th>\n",
       "      <th>min</th>\n",
       "      <th>25%</th>\n",
       "      <th>50%</th>\n",
       "      <th>75%</th>\n",
       "      <th>max</th>\n",
       "    </tr>\n",
       "  </thead>\n",
       "  <tbody>\n",
       "    <tr>\n",
       "      <th>PassengerId</th>\n",
       "      <td>891.0</td>\n",
       "      <td>446.000000</td>\n",
       "      <td>257.353842</td>\n",
       "      <td>1.00</td>\n",
       "      <td>223.5000</td>\n",
       "      <td>446.0000</td>\n",
       "      <td>668.5</td>\n",
       "      <td>891.0000</td>\n",
       "    </tr>\n",
       "    <tr>\n",
       "      <th>Survived</th>\n",
       "      <td>891.0</td>\n",
       "      <td>0.383838</td>\n",
       "      <td>0.486592</td>\n",
       "      <td>0.00</td>\n",
       "      <td>0.0000</td>\n",
       "      <td>0.0000</td>\n",
       "      <td>1.0</td>\n",
       "      <td>1.0000</td>\n",
       "    </tr>\n",
       "    <tr>\n",
       "      <th>Pclass</th>\n",
       "      <td>891.0</td>\n",
       "      <td>2.308642</td>\n",
       "      <td>0.836071</td>\n",
       "      <td>1.00</td>\n",
       "      <td>2.0000</td>\n",
       "      <td>3.0000</td>\n",
       "      <td>3.0</td>\n",
       "      <td>3.0000</td>\n",
       "    </tr>\n",
       "    <tr>\n",
       "      <th>Age</th>\n",
       "      <td>714.0</td>\n",
       "      <td>29.699118</td>\n",
       "      <td>14.526497</td>\n",
       "      <td>0.42</td>\n",
       "      <td>20.1250</td>\n",
       "      <td>28.0000</td>\n",
       "      <td>38.0</td>\n",
       "      <td>80.0000</td>\n",
       "    </tr>\n",
       "    <tr>\n",
       "      <th>SibSp</th>\n",
       "      <td>891.0</td>\n",
       "      <td>0.523008</td>\n",
       "      <td>1.102743</td>\n",
       "      <td>0.00</td>\n",
       "      <td>0.0000</td>\n",
       "      <td>0.0000</td>\n",
       "      <td>1.0</td>\n",
       "      <td>8.0000</td>\n",
       "    </tr>\n",
       "    <tr>\n",
       "      <th>Parch</th>\n",
       "      <td>891.0</td>\n",
       "      <td>0.381594</td>\n",
       "      <td>0.806057</td>\n",
       "      <td>0.00</td>\n",
       "      <td>0.0000</td>\n",
       "      <td>0.0000</td>\n",
       "      <td>0.0</td>\n",
       "      <td>6.0000</td>\n",
       "    </tr>\n",
       "    <tr>\n",
       "      <th>Fare</th>\n",
       "      <td>891.0</td>\n",
       "      <td>32.204208</td>\n",
       "      <td>49.693429</td>\n",
       "      <td>0.00</td>\n",
       "      <td>7.9104</td>\n",
       "      <td>14.4542</td>\n",
       "      <td>31.0</td>\n",
       "      <td>512.3292</td>\n",
       "    </tr>\n",
       "  </tbody>\n",
       "</table>\n",
       "</div>"
      ],
      "text/plain": [
       "             count        mean         std   min       25%       50%    75%  \\\n",
       "PassengerId  891.0  446.000000  257.353842  1.00  223.5000  446.0000  668.5   \n",
       "Survived     891.0    0.383838    0.486592  0.00    0.0000    0.0000    1.0   \n",
       "Pclass       891.0    2.308642    0.836071  1.00    2.0000    3.0000    3.0   \n",
       "Age          714.0   29.699118   14.526497  0.42   20.1250   28.0000   38.0   \n",
       "SibSp        891.0    0.523008    1.102743  0.00    0.0000    0.0000    1.0   \n",
       "Parch        891.0    0.381594    0.806057  0.00    0.0000    0.0000    0.0   \n",
       "Fare         891.0   32.204208   49.693429  0.00    7.9104   14.4542   31.0   \n",
       "\n",
       "                  max  \n",
       "PassengerId  891.0000  \n",
       "Survived       1.0000  \n",
       "Pclass         3.0000  \n",
       "Age           80.0000  \n",
       "SibSp          8.0000  \n",
       "Parch          6.0000  \n",
       "Fare         512.3292  "
      ]
     },
     "execution_count": 4,
     "metadata": {},
     "output_type": "execute_result"
    }
   ],
   "source": [
    "print('STATS: TRAIN')\n",
    "train.describe().transpose()"
   ]
  },
  {
   "cell_type": "code",
   "execution_count": 5,
   "id": "ec29aa2a",
   "metadata": {
    "execution": {
     "iopub.execute_input": "2022-04-07T16:15:49.108818Z",
     "iopub.status.busy": "2022-04-07T16:15:49.108041Z",
     "iopub.status.idle": "2022-04-07T16:15:49.128193Z",
     "shell.execute_reply": "2022-04-07T16:15:49.128703Z",
     "shell.execute_reply.started": "2022-04-07T15:43:15.406664Z"
    },
    "papermill": {
     "duration": 0.100529,
     "end_time": "2022-04-07T16:15:49.128914",
     "exception": false,
     "start_time": "2022-04-07T16:15:49.028385",
     "status": "completed"
    },
    "scrolled": true,
    "tags": []
   },
   "outputs": [
    {
     "data": {
      "text/html": [
       "<div>\n",
       "<style scoped>\n",
       "    .dataframe tbody tr th:only-of-type {\n",
       "        vertical-align: middle;\n",
       "    }\n",
       "\n",
       "    .dataframe tbody tr th {\n",
       "        vertical-align: top;\n",
       "    }\n",
       "\n",
       "    .dataframe thead th {\n",
       "        text-align: right;\n",
       "    }\n",
       "</style>\n",
       "<table border=\"1\" class=\"dataframe\">\n",
       "  <thead>\n",
       "    <tr style=\"text-align: right;\">\n",
       "      <th></th>\n",
       "      <th>Name</th>\n",
       "      <th>Sex</th>\n",
       "      <th>Ticket</th>\n",
       "      <th>Cabin</th>\n",
       "      <th>Embarked</th>\n",
       "    </tr>\n",
       "  </thead>\n",
       "  <tbody>\n",
       "    <tr>\n",
       "      <th>count</th>\n",
       "      <td>891</td>\n",
       "      <td>891</td>\n",
       "      <td>891</td>\n",
       "      <td>204</td>\n",
       "      <td>889</td>\n",
       "    </tr>\n",
       "    <tr>\n",
       "      <th>unique</th>\n",
       "      <td>891</td>\n",
       "      <td>2</td>\n",
       "      <td>681</td>\n",
       "      <td>147</td>\n",
       "      <td>3</td>\n",
       "    </tr>\n",
       "    <tr>\n",
       "      <th>top</th>\n",
       "      <td>Braund, Mr. Owen Harris</td>\n",
       "      <td>male</td>\n",
       "      <td>347082</td>\n",
       "      <td>B96 B98</td>\n",
       "      <td>S</td>\n",
       "    </tr>\n",
       "    <tr>\n",
       "      <th>freq</th>\n",
       "      <td>1</td>\n",
       "      <td>577</td>\n",
       "      <td>7</td>\n",
       "      <td>4</td>\n",
       "      <td>644</td>\n",
       "    </tr>\n",
       "  </tbody>\n",
       "</table>\n",
       "</div>"
      ],
      "text/plain": [
       "                           Name   Sex  Ticket    Cabin Embarked\n",
       "count                       891   891     891      204      889\n",
       "unique                      891     2     681      147        3\n",
       "top     Braund, Mr. Owen Harris  male  347082  B96 B98        S\n",
       "freq                          1   577       7        4      644"
      ]
     },
     "execution_count": 5,
     "metadata": {},
     "output_type": "execute_result"
    }
   ],
   "source": [
    "train.describe(include=['O'])"
   ]
  },
  {
   "cell_type": "markdown",
   "id": "cb5c68e6",
   "metadata": {},
   "source": [
    "### First pass at correlation to our target just to see what's going on."
   ]
  },
  {
   "cell_type": "code",
   "execution_count": 6,
   "id": "1027ddc5",
   "metadata": {
    "execution": {
     "iopub.execute_input": "2022-04-07T16:15:49.279421Z",
     "iopub.status.busy": "2022-04-07T16:15:49.278729Z",
     "iopub.status.idle": "2022-04-07T16:15:49.292337Z",
     "shell.execute_reply": "2022-04-07T16:15:49.291743Z",
     "shell.execute_reply.started": "2022-04-07T15:43:31.803388Z"
    },
    "papermill": {
     "duration": 0.091419,
     "end_time": "2022-04-07T16:15:49.292511",
     "exception": false,
     "start_time": "2022-04-07T16:15:49.201092",
     "status": "completed"
    },
    "scrolled": true,
    "tags": []
   },
   "outputs": [
    {
     "name": "stdout",
     "output_type": "stream",
     "text": [
      "Correlation WRT Survivorship\n"
     ]
    },
    {
     "data": {
      "text/plain": [
       "Pclass     -0.338481\n",
       "Age        -0.077221\n",
       "SibSp      -0.035322\n",
       "Parch       0.081629\n",
       "Fare        0.257307\n",
       "Survived    1.000000\n",
       "Name: Survived, dtype: float64"
      ]
     },
     "execution_count": 6,
     "metadata": {},
     "output_type": "execute_result"
    }
   ],
   "source": [
    "print('Correlation WRT Survivorship')\n",
    "train_corr=train.drop('PassengerId', axis=1).corr()\n",
    "train_corr['Survived'].sort_values()"
   ]
  },
  {
   "cell_type": "markdown",
   "id": "667e8ae5",
   "metadata": {},
   "source": [
    "### Since we know that sex is an important factor too, let's just take a looksie..."
   ]
  },
  {
   "cell_type": "code",
   "execution_count": 7,
   "id": "1818906b",
   "metadata": {
    "execution": {
     "iopub.execute_input": "2022-04-07T16:15:49.446309Z",
     "iopub.status.busy": "2022-04-07T16:15:49.444963Z",
     "iopub.status.idle": "2022-04-07T16:15:49.639969Z",
     "shell.execute_reply": "2022-04-07T16:15:49.639034Z",
     "shell.execute_reply.started": "2022-04-07T15:43:45.200908Z"
    },
    "papermill": {
     "duration": 0.274097,
     "end_time": "2022-04-07T16:15:49.640178",
     "exception": false,
     "start_time": "2022-04-07T16:15:49.366081",
     "status": "completed"
    },
    "tags": []
   },
   "outputs": [
    {
     "data": {
      "image/png": "[encoded data removed]",
      "text/plain": [
       "<Figure size 432x288 with 1 Axes>"
      ]
     },
     "metadata": {},
     "output_type": "display_data"
    }
   ],
   "source": [
    "sns.countplot(train['Survived'], hue=train['Sex'])\n",
    "plt.xlabel('Survived')\n",
    "plt.ylabel('Count')\n",
    "plt.show();"
   ]
  },
  {
   "cell_type": "code",
   "execution_count": 8,
   "id": "78278c93",
   "metadata": {
    "execution": {
     "iopub.execute_input": "2022-04-07T16:15:49.808719Z",
     "iopub.status.busy": "2022-04-07T16:15:49.807732Z",
     "iopub.status.idle": "2022-04-07T16:15:49.811475Z",
     "shell.execute_reply": "2022-04-07T16:15:49.811971Z",
     "shell.execute_reply.started": "2022-04-07T15:45:57.225771Z"
    },
    "papermill": {
     "duration": 0.097798,
     "end_time": "2022-04-07T16:15:49.812182",
     "exception": false,
     "start_time": "2022-04-07T16:15:49.714384",
     "status": "completed"
    },
    "scrolled": false,
    "tags": []
   },
   "outputs": [
    {
     "data": {
      "text/html": [
       "<div>\n",
       "<style scoped>\n",
       "    .dataframe tbody tr th:only-of-type {\n",
       "        vertical-align: middle;\n",
       "    }\n",
       "\n",
       "    .dataframe tbody tr th {\n",
       "        vertical-align: top;\n",
       "    }\n",
       "\n",
       "    .dataframe thead th {\n",
       "        text-align: right;\n",
       "    }\n",
       "</style>\n",
       "<table border=\"1\" class=\"dataframe\">\n",
       "  <thead>\n",
       "    <tr style=\"text-align: right;\">\n",
       "      <th></th>\n",
       "      <th>Sex</th>\n",
       "      <th>Survived</th>\n",
       "    </tr>\n",
       "  </thead>\n",
       "  <tbody>\n",
       "    <tr>\n",
       "      <th>0</th>\n",
       "      <td>female</td>\n",
       "      <td>0.742038</td>\n",
       "    </tr>\n",
       "    <tr>\n",
       "      <th>1</th>\n",
       "      <td>male</td>\n",
       "      <td>0.188908</td>\n",
       "    </tr>\n",
       "  </tbody>\n",
       "</table>\n",
       "</div>"
      ],
      "text/plain": [
       "      Sex  Survived\n",
       "0  female  0.742038\n",
       "1    male  0.188908"
      ]
     },
     "execution_count": 8,
     "metadata": {},
     "output_type": "execute_result"
    }
   ],
   "source": [
    "train[[\"Sex\", \"Survived\"]].groupby(['Sex'], as_index=False).mean().sort_values(by='Survived', ascending=False)"
   ]
  },
  {
   "cell_type": "markdown",
   "id": "8a81572d",
   "metadata": {},
   "source": [
    "### Maybe explore some of the other properties too..."
   ]
  },
  {
   "cell_type": "code",
   "execution_count": 9,
   "id": "09a00d61",
   "metadata": {
    "execution": {
     "iopub.execute_input": "2022-04-07T16:15:49.968297Z",
     "iopub.status.busy": "2022-04-07T16:15:49.967228Z",
     "iopub.status.idle": "2022-04-07T16:15:49.982521Z",
     "shell.execute_reply": "2022-04-07T16:15:49.981907Z",
     "shell.execute_reply.started": "2022-04-07T15:46:48.540268Z"
    },
    "papermill": {
     "duration": 0.093219,
     "end_time": "2022-04-07T16:15:49.982673",
     "exception": false,
     "start_time": "2022-04-07T16:15:49.889454",
     "status": "completed"
    },
    "tags": []
   },
   "outputs": [
    {
     "data": {
      "text/html": [
       "<div>\n",
       "<style scoped>\n",
       "    .dataframe tbody tr th:only-of-type {\n",
       "        vertical-align: middle;\n",
       "    }\n",
       "\n",
       "    .dataframe tbody tr th {\n",
       "        vertical-align: top;\n",
       "    }\n",
       "\n",
       "    .dataframe thead th {\n",
       "        text-align: right;\n",
       "    }\n",
       "</style>\n",
       "<table border=\"1\" class=\"dataframe\">\n",
       "  <thead>\n",
       "    <tr style=\"text-align: right;\">\n",
       "      <th></th>\n",
       "      <th>SibSp</th>\n",
       "      <th>Survived</th>\n",
       "    </tr>\n",
       "  </thead>\n",
       "  <tbody>\n",
       "    <tr>\n",
       "      <th>1</th>\n",
       "      <td>1</td>\n",
       "      <td>0.535885</td>\n",
       "    </tr>\n",
       "    <tr>\n",
       "      <th>2</th>\n",
       "      <td>2</td>\n",
       "      <td>0.464286</td>\n",
       "    </tr>\n",
       "    <tr>\n",
       "      <th>0</th>\n",
       "      <td>0</td>\n",
       "      <td>0.345395</td>\n",
       "    </tr>\n",
       "    <tr>\n",
       "      <th>3</th>\n",
       "      <td>3</td>\n",
       "      <td>0.250000</td>\n",
       "    </tr>\n",
       "    <tr>\n",
       "      <th>4</th>\n",
       "      <td>4</td>\n",
       "      <td>0.166667</td>\n",
       "    </tr>\n",
       "    <tr>\n",
       "      <th>5</th>\n",
       "      <td>5</td>\n",
       "      <td>0.000000</td>\n",
       "    </tr>\n",
       "    <tr>\n",
       "      <th>6</th>\n",
       "      <td>8</td>\n",
       "      <td>0.000000</td>\n",
       "    </tr>\n",
       "  </tbody>\n",
       "</table>\n",
       "</div>"
      ],
      "text/plain": [
       "   SibSp  Survived\n",
       "1      1  0.535885\n",
       "2      2  0.464286\n",
       "0      0  0.345395\n",
       "3      3  0.250000\n",
       "4      4  0.166667\n",
       "5      5  0.000000\n",
       "6      8  0.000000"
      ]
     },
     "execution_count": 9,
     "metadata": {},
     "output_type": "execute_result"
    }
   ],
   "source": [
    "train[[\"SibSp\", \"Survived\"]].groupby(['SibSp'], as_index=False).mean().sort_values(by='Survived', ascending=False)"
   ]
  },
  {
   "cell_type": "code",
   "execution_count": 10,
   "id": "08eef5ae",
   "metadata": {
    "execution": {
     "iopub.execute_input": "2022-04-07T16:15:50.140889Z",
     "iopub.status.busy": "2022-04-07T16:15:50.139715Z",
     "iopub.status.idle": "2022-04-07T16:15:50.154934Z",
     "shell.execute_reply": "2022-04-07T16:15:50.155599Z",
     "shell.execute_reply.started": "2022-04-07T15:47:00.101888Z"
    },
    "papermill": {
     "duration": 0.094036,
     "end_time": "2022-04-07T16:15:50.155788",
     "exception": false,
     "start_time": "2022-04-07T16:15:50.061752",
     "status": "completed"
    },
    "tags": []
   },
   "outputs": [
    {
     "data": {
      "text/html": [
       "<div>\n",
       "<style scoped>\n",
       "    .dataframe tbody tr th:only-of-type {\n",
       "        vertical-align: middle;\n",
       "    }\n",
       "\n",
       "    .dataframe tbody tr th {\n",
       "        vertical-align: top;\n",
       "    }\n",
       "\n",
       "    .dataframe thead th {\n",
       "        text-align: right;\n",
       "    }\n",
       "</style>\n",
       "<table border=\"1\" class=\"dataframe\">\n",
       "  <thead>\n",
       "    <tr style=\"text-align: right;\">\n",
       "      <th></th>\n",
       "      <th>Parch</th>\n",
       "      <th>Survived</th>\n",
       "    </tr>\n",
       "  </thead>\n",
       "  <tbody>\n",
       "    <tr>\n",
       "      <th>3</th>\n",
       "      <td>3</td>\n",
       "      <td>0.600000</td>\n",
       "    </tr>\n",
       "    <tr>\n",
       "      <th>1</th>\n",
       "      <td>1</td>\n",
       "      <td>0.550847</td>\n",
       "    </tr>\n",
       "    <tr>\n",
       "      <th>2</th>\n",
       "      <td>2</td>\n",
       "      <td>0.500000</td>\n",
       "    </tr>\n",
       "    <tr>\n",
       "      <th>0</th>\n",
       "      <td>0</td>\n",
       "      <td>0.343658</td>\n",
       "    </tr>\n",
       "    <tr>\n",
       "      <th>5</th>\n",
       "      <td>5</td>\n",
       "      <td>0.200000</td>\n",
       "    </tr>\n",
       "    <tr>\n",
       "      <th>4</th>\n",
       "      <td>4</td>\n",
       "      <td>0.000000</td>\n",
       "    </tr>\n",
       "    <tr>\n",
       "      <th>6</th>\n",
       "      <td>6</td>\n",
       "      <td>0.000000</td>\n",
       "    </tr>\n",
       "  </tbody>\n",
       "</table>\n",
       "</div>"
      ],
      "text/plain": [
       "   Parch  Survived\n",
       "3      3  0.600000\n",
       "1      1  0.550847\n",
       "2      2  0.500000\n",
       "0      0  0.343658\n",
       "5      5  0.200000\n",
       "4      4  0.000000\n",
       "6      6  0.000000"
      ]
     },
     "execution_count": 10,
     "metadata": {},
     "output_type": "execute_result"
    }
   ],
   "source": [
    "train[[\"Parch\", \"Survived\"]].groupby(['Parch'], as_index=False).mean().sort_values(by='Survived', ascending=False)"
   ]
  },
  {
   "cell_type": "markdown",
   "id": "482bbe33",
   "metadata": {},
   "source": [
    "## Cleanup and Feature Engineering\n",
    "### Plan of action:\n",
    "1. Drop properties that aren't useful (Ticket) or lack too much data (Cabin)\n",
    "2. Fill in missing values\n",
    "3. Extract useful data from existing properties (Title from Name)\n",
    "4. Dicretize continuous variables (Age and Fare)\n",
    "5. Map integers onto non-int data\n",
    "6. Drop redundant properties"
   ]
  },
  {
   "cell_type": "markdown",
   "id": "5643f0f9",
   "metadata": {},
   "source": [
    "### 1. Drop properties that aren't useful (Ticket) or lack too much data (Cabin)"
   ]
  },
  {
   "cell_type": "code",
   "execution_count": 11,
   "id": "90fb0e1d",
   "metadata": {
    "execution": {
     "iopub.execute_input": "2022-04-07T16:15:50.474263Z",
     "iopub.status.busy": "2022-04-07T16:15:50.473104Z",
     "iopub.status.idle": "2022-04-07T16:15:50.476812Z",
     "shell.execute_reply": "2022-04-07T16:15:50.477443Z",
     "shell.execute_reply.started": "2022-04-07T15:47:59.273948Z"
    },
    "papermill": {
     "duration": 0.087832,
     "end_time": "2022-04-07T16:15:50.477643",
     "exception": false,
     "start_time": "2022-04-07T16:15:50.389811",
     "status": "completed"
    },
    "tags": []
   },
   "outputs": [],
   "source": [
    "train = train.drop(['Ticket', 'Cabin'], axis=1)\n",
    "test = test.drop(['Ticket', 'Cabin'], axis=1)"
   ]
  },
  {
   "cell_type": "markdown",
   "id": "7f541f47",
   "metadata": {},
   "source": [
    "### 2. Fill in missing values. Well, let's see what's missing!"
   ]
  },
  {
   "cell_type": "code",
   "execution_count": 12,
   "id": "3058185d",
   "metadata": {
    "execution": {
     "iopub.execute_input": "2022-04-07T16:15:50.636626Z",
     "iopub.status.busy": "2022-04-07T16:15:50.635812Z",
     "iopub.status.idle": "2022-04-07T16:15:50.642937Z",
     "shell.execute_reply": "2022-04-07T16:15:50.643467Z",
     "shell.execute_reply.started": "2022-04-07T15:48:19.750620Z"
    },
    "papermill": {
     "duration": 0.091231,
     "end_time": "2022-04-07T16:15:50.643683",
     "exception": false,
     "start_time": "2022-04-07T16:15:50.552452",
     "status": "completed"
    },
    "scrolled": true,
    "tags": []
   },
   "outputs": [
    {
     "name": "stdout",
     "output_type": "stream",
     "text": [
      "MISSING DATA: TRAIN\n",
      "PassengerId      0\n",
      "Survived         0\n",
      "Pclass           0\n",
      "Name             0\n",
      "Sex              0\n",
      "Age            177\n",
      "SibSp            0\n",
      "Parch            0\n",
      "Fare             0\n",
      "Embarked         2\n",
      "dtype: int64\n",
      "******************************\n",
      "MISSING DATA: TEST\n",
      "PassengerId     0\n",
      "Pclass          0\n",
      "Name            0\n",
      "Sex             0\n",
      "Age            86\n",
      "SibSp           0\n",
      "Parch           0\n",
      "Fare            1\n",
      "Embarked        0\n",
      "dtype: int64\n"
     ]
    }
   ],
   "source": [
    "print('MISSING DATA: TRAIN')\n",
    "print(train.isna().sum())\n",
    "print(30*'*')\n",
    "print('MISSING DATA: TEST')\n",
    "print(test.isna().sum())"
   ]
  },
  {
   "cell_type": "markdown",
   "id": "c123f9df",
   "metadata": {},
   "source": [
    "#### Function to fill in continuous values via ML. In this case, I've used SVM here for funsies..."
   ]
  },
  {
   "cell_type": "code",
   "execution_count": 13,
   "id": "16c396df",
   "metadata": {
    "execution": {
     "iopub.execute_input": "2022-04-07T16:15:50.808132Z",
     "iopub.status.busy": "2022-04-07T16:15:50.806873Z",
     "iopub.status.idle": "2022-04-07T16:15:51.105214Z",
     "shell.execute_reply": "2022-04-07T16:15:51.105962Z",
     "shell.execute_reply.started": "2022-04-07T15:48:40.059016Z"
    },
    "papermill": {
     "duration": 0.385276,
     "end_time": "2022-04-07T16:15:51.106202",
     "exception": false,
     "start_time": "2022-04-07T16:15:50.720926",
     "status": "completed"
    },
    "tags": []
   },
   "outputs": [],
   "source": [
    "from sklearn.svm import SVR, SVC, LinearSVC #Calling them all because I'll use them later\n",
    "def svm_num(df,na_col): #pass in the dataset and either Age or Fare\n",
    "    df=df.copy()\n",
    "    \n",
    "    num_df = df.select_dtypes(np.number) \n",
    "    val_cols = num_df.loc[:,num_df.isna().sum() == 0].columns\n",
    "    \n",
    "    y_train = num_df.loc[num_df[na_col].isna()==False,na_col] \n",
    "    X_train = num_df.loc[num_df[na_col].isna()==False,val_cols]\n",
    "    X_test = num_df.loc[num_df[na_col].isna()==True,val_cols]\n",
    "    \n",
    "    svr = SVR()\n",
    "    svr.fit(X_train,y_train)\n",
    "    \n",
    "    y_pred = svr.predict(X_test)\n",
    "    \n",
    "    df.loc[df[na_col].isna()==True,na_col] = y_pred\n",
    "    \n",
    "    return df"
   ]
  },
  {
   "cell_type": "code",
   "execution_count": 14,
   "id": "6b63b076",
   "metadata": {
    "execution": {
     "iopub.execute_input": "2022-04-07T16:15:51.263817Z",
     "iopub.status.busy": "2022-04-07T16:15:51.263072Z",
     "iopub.status.idle": "2022-04-07T16:15:51.313727Z",
     "shell.execute_reply": "2022-04-07T16:15:51.314332Z",
     "shell.execute_reply.started": "2022-04-07T15:48:49.892265Z"
    },
    "papermill": {
     "duration": 0.133146,
     "end_time": "2022-04-07T16:15:51.314555",
     "exception": false,
     "start_time": "2022-04-07T16:15:51.181409",
     "status": "completed"
    },
    "tags": []
   },
   "outputs": [],
   "source": [
    "train=svm_num(train,'Age') #Use function to fill in age data in the train set"
   ]
  },
  {
   "cell_type": "code",
   "execution_count": 15,
   "id": "18547538",
   "metadata": {
    "execution": {
     "iopub.execute_input": "2022-04-07T16:15:51.471009Z",
     "iopub.status.busy": "2022-04-07T16:15:51.470292Z",
     "iopub.status.idle": "2022-04-07T16:15:51.492222Z",
     "shell.execute_reply": "2022-04-07T16:15:51.492912Z",
     "shell.execute_reply.started": "2022-04-07T15:48:56.492028Z"
    },
    "papermill": {
     "duration": 0.101211,
     "end_time": "2022-04-07T16:15:51.493128",
     "exception": false,
     "start_time": "2022-04-07T16:15:51.391917",
     "status": "completed"
    },
    "tags": []
   },
   "outputs": [],
   "source": [
    "test=svm_num(test,'Age') #...and the test set"
   ]
  },
  {
   "cell_type": "code",
   "execution_count": 16,
   "id": "dc194cd4",
   "metadata": {
    "execution": {
     "iopub.execute_input": "2022-04-07T16:15:51.648756Z",
     "iopub.status.busy": "2022-04-07T16:15:51.648099Z",
     "iopub.status.idle": "2022-04-07T16:15:51.672714Z",
     "shell.execute_reply": "2022-04-07T16:15:51.673269Z",
     "shell.execute_reply.started": "2022-04-07T15:49:04.559561Z"
    },
    "papermill": {
     "duration": 0.104963,
     "end_time": "2022-04-07T16:15:51.673478",
     "exception": false,
     "start_time": "2022-04-07T16:15:51.568515",
     "status": "completed"
    },
    "tags": []
   },
   "outputs": [],
   "source": [
    "test=svm_num(test,'Fare') #And the missing fare value in the test set"
   ]
  },
  {
   "cell_type": "markdown",
   "id": "460ad956",
   "metadata": {},
   "source": [
    "#### There are still two missing values for the port of embarcation in the training set. Let's just fill them in with the mode."
   ]
  },
  {
   "cell_type": "code",
   "execution_count": 17,
   "id": "e8f19574",
   "metadata": {
    "execution": {
     "iopub.execute_input": "2022-04-07T16:15:51.829109Z",
     "iopub.status.busy": "2022-04-07T16:15:51.827911Z",
     "iopub.status.idle": "2022-04-07T16:15:51.835015Z",
     "shell.execute_reply": "2022-04-07T16:15:51.835735Z",
     "shell.execute_reply.started": "2022-04-07T15:49:13.560680Z"
    },
    "papermill": {
     "duration": 0.087312,
     "end_time": "2022-04-07T16:15:51.835944",
     "exception": false,
     "start_time": "2022-04-07T16:15:51.748632",
     "status": "completed"
    },
    "tags": []
   },
   "outputs": [],
   "source": [
    "port = train.Embarked.dropna().mode()[0]\n",
    "train['Embarked'] = train['Embarked'].fillna(port)"
   ]
  },
  {
   "cell_type": "markdown",
   "id": "c6300bb5",
   "metadata": {},
   "source": [
    "#### Yay, no missing data!"
   ]
  },
  {
   "cell_type": "code",
   "execution_count": 18,
   "id": "9d31cc54",
   "metadata": {
    "execution": {
     "iopub.execute_input": "2022-04-07T16:15:51.991077Z",
     "iopub.status.busy": "2022-04-07T16:15:51.989921Z",
     "iopub.status.idle": "2022-04-07T16:15:52.001964Z",
     "shell.execute_reply": "2022-04-07T16:15:52.002524Z",
     "shell.execute_reply.started": "2022-04-07T15:49:22.807652Z"
    },
    "papermill": {
     "duration": 0.091547,
     "end_time": "2022-04-07T16:15:52.002729",
     "exception": false,
     "start_time": "2022-04-07T16:15:51.911182",
     "status": "completed"
    },
    "scrolled": true,
    "tags": []
   },
   "outputs": [
    {
     "name": "stdout",
     "output_type": "stream",
     "text": [
      "MISSING DATA: TRAIN\n",
      "PassengerId    0\n",
      "Survived       0\n",
      "Pclass         0\n",
      "Name           0\n",
      "Sex            0\n",
      "Age            0\n",
      "SibSp          0\n",
      "Parch          0\n",
      "Fare           0\n",
      "Embarked       0\n",
      "dtype: int64\n",
      "******************************\n",
      "MISSING DATA: TEST\n",
      "PassengerId    0\n",
      "Pclass         0\n",
      "Name           0\n",
      "Sex            0\n",
      "Age            0\n",
      "SibSp          0\n",
      "Parch          0\n",
      "Fare           0\n",
      "Embarked       0\n",
      "dtype: int64\n"
     ]
    }
   ],
   "source": [
    "print('MISSING DATA: TRAIN')\n",
    "print(train.isna().sum())\n",
    "print(30*'*')\n",
    "print('MISSING DATA: TEST')\n",
    "print(test.isna().sum())"
   ]
  },
  {
   "cell_type": "markdown",
   "id": "d6f13c0b",
   "metadata": {},
   "source": [
    "### 3. Extract useful data from existing properties (Title from Name)"
   ]
  },
  {
   "cell_type": "code",
   "execution_count": 19,
   "id": "840b73ac",
   "metadata": {
    "execution": {
     "iopub.execute_input": "2022-04-07T16:15:52.170686Z",
     "iopub.status.busy": "2022-04-07T16:15:52.169934Z",
     "iopub.status.idle": "2022-04-07T16:15:52.173087Z",
     "shell.execute_reply": "2022-04-07T16:15:52.172413Z",
     "shell.execute_reply.started": "2022-04-07T15:49:40.753153Z"
    },
    "papermill": {
     "duration": 0.093027,
     "end_time": "2022-04-07T16:15:52.173265",
     "exception": false,
     "start_time": "2022-04-07T16:15:52.080238",
     "status": "completed"
    },
    "tags": []
   },
   "outputs": [],
   "source": [
    "all_data=[train,test]\n",
    "for dataset in all_data:\n",
    "    dataset['Title'] = dataset.Name.str.extract(' ([A-Za-z]+)\\.')"
   ]
  },
  {
   "cell_type": "code",
   "execution_count": 20,
   "id": "29c0a626",
   "metadata": {
    "execution": {
     "iopub.execute_input": "2022-04-07T16:15:52.331895Z",
     "iopub.status.busy": "2022-04-07T16:15:52.330917Z",
     "iopub.status.idle": "2022-04-07T16:15:52.344003Z",
     "shell.execute_reply": "2022-04-07T16:15:52.344569Z",
     "shell.execute_reply.started": "2022-04-07T15:50:13.366378Z"
    },
    "papermill": {
     "duration": 0.093491,
     "end_time": "2022-04-07T16:15:52.344775",
     "exception": false,
     "start_time": "2022-04-07T16:15:52.251284",
     "status": "completed"
    },
    "tags": []
   },
   "outputs": [],
   "source": [
    "for dataset in all_data:\n",
    "    dataset['Title'] = dataset['Title'].replace(['Lady', 'Countess','Capt', 'Col','Don', 'Dr', 'Major', 'Rev', 'Sir', 'Jonkheer', 'Dona'], 'Other')\n",
    "    dataset['Title'] = dataset['Title'].replace('Mlle', 'Miss')\n",
    "    dataset['Title'] = dataset['Title'].replace('Ms', 'Miss')\n",
    "    dataset['Title'] = dataset['Title'].replace('Mme', 'Mrs')"
   ]
  },
  {
   "cell_type": "markdown",
   "id": "eab2db32",
   "metadata": {},
   "source": [
    "#### Ooh yeah that looks promising..."
   ]
  },
  {
   "cell_type": "code",
   "execution_count": 21,
   "id": "182afa67",
   "metadata": {
    "execution": {
     "iopub.execute_input": "2022-04-07T16:15:52.502856Z",
     "iopub.status.busy": "2022-04-07T16:15:52.501821Z",
     "iopub.status.idle": "2022-04-07T16:15:52.516072Z",
     "shell.execute_reply": "2022-04-07T16:15:52.516634Z",
     "shell.execute_reply.started": "2022-04-07T15:50:24.080254Z"
    },
    "papermill": {
     "duration": 0.09489,
     "end_time": "2022-04-07T16:15:52.516812",
     "exception": false,
     "start_time": "2022-04-07T16:15:52.421922",
     "status": "completed"
    },
    "scrolled": true,
    "tags": []
   },
   "outputs": [
    {
     "data": {
      "text/html": [
       "<div>\n",
       "<style scoped>\n",
       "    .dataframe tbody tr th:only-of-type {\n",
       "        vertical-align: middle;\n",
       "    }\n",
       "\n",
       "    .dataframe tbody tr th {\n",
       "        vertical-align: top;\n",
       "    }\n",
       "\n",
       "    .dataframe thead th {\n",
       "        text-align: right;\n",
       "    }\n",
       "</style>\n",
       "<table border=\"1\" class=\"dataframe\">\n",
       "  <thead>\n",
       "    <tr style=\"text-align: right;\">\n",
       "      <th></th>\n",
       "      <th>Title</th>\n",
       "      <th>Survived</th>\n",
       "    </tr>\n",
       "  </thead>\n",
       "  <tbody>\n",
       "    <tr>\n",
       "      <th>0</th>\n",
       "      <td>Master</td>\n",
       "      <td>0.575000</td>\n",
       "    </tr>\n",
       "    <tr>\n",
       "      <th>1</th>\n",
       "      <td>Miss</td>\n",
       "      <td>0.702703</td>\n",
       "    </tr>\n",
       "    <tr>\n",
       "      <th>2</th>\n",
       "      <td>Mr</td>\n",
       "      <td>0.156673</td>\n",
       "    </tr>\n",
       "    <tr>\n",
       "      <th>3</th>\n",
       "      <td>Mrs</td>\n",
       "      <td>0.793651</td>\n",
       "    </tr>\n",
       "    <tr>\n",
       "      <th>4</th>\n",
       "      <td>Other</td>\n",
       "      <td>0.347826</td>\n",
       "    </tr>\n",
       "  </tbody>\n",
       "</table>\n",
       "</div>"
      ],
      "text/plain": [
       "    Title  Survived\n",
       "0  Master  0.575000\n",
       "1    Miss  0.702703\n",
       "2      Mr  0.156673\n",
       "3     Mrs  0.793651\n",
       "4   Other  0.347826"
      ]
     },
     "execution_count": 21,
     "metadata": {},
     "output_type": "execute_result"
    }
   ],
   "source": [
    "train[['Title', 'Survived']].groupby(['Title'], as_index=False).mean()"
   ]
  },
  {
   "cell_type": "markdown",
   "id": "a96bc107",
   "metadata": {},
   "source": [
    "### 4. Discretize continuous variables (Age and Fare)\n",
    "#### Start with checking out the age distributions"
   ]
  },
  {
   "cell_type": "code",
   "execution_count": 22,
   "id": "33906d33",
   "metadata": {
    "execution": {
     "iopub.execute_input": "2022-04-07T16:15:52.673306Z",
     "iopub.status.busy": "2022-04-07T16:15:52.672311Z",
     "iopub.status.idle": "2022-04-07T16:15:53.283042Z",
     "shell.execute_reply": "2022-04-07T16:15:53.282444Z",
     "shell.execute_reply.started": "2022-04-07T15:50:47.977359Z"
    },
    "papermill": {
     "duration": 0.690253,
     "end_time": "2022-04-07T16:15:53.283202",
     "exception": false,
     "start_time": "2022-04-07T16:15:52.592949",
     "status": "completed"
    },
    "scrolled": true,
    "tags": []
   },
   "outputs": [
    {
     "data": {
      "image/png": "[encoded data removed]",
      "text/plain": [
       "<Figure size 432x288 with 1 Axes>"
      ]
     },
     "metadata": {},
     "output_type": "display_data"
    }
   ],
   "source": [
    "sns.histplot(data=train,x='Age',hue='Pclass',multiple='stack', kde=True);"
   ]
  },
  {
   "cell_type": "markdown",
   "id": "d0f64e7a",
   "metadata": {},
   "source": [
    "#### Get some closer looks at various parts of the histogram"
   ]
  },
  {
   "cell_type": "code",
   "execution_count": 23,
   "id": "b932b600",
   "metadata": {
    "execution": {
     "iopub.execute_input": "2022-04-07T16:15:53.444630Z",
     "iopub.status.busy": "2022-04-07T16:15:53.443598Z",
     "iopub.status.idle": "2022-04-07T16:15:53.990887Z",
     "shell.execute_reply": "2022-04-07T16:15:53.991443Z",
     "shell.execute_reply.started": "2022-04-07T15:51:13.576758Z"
    },
    "papermill": {
     "duration": 0.63085,
     "end_time": "2022-04-07T16:15:53.991634",
     "exception": false,
     "start_time": "2022-04-07T16:15:53.360784",
     "status": "completed"
    },
    "scrolled": false,
    "tags": []
   },
   "outputs": [
    {
     "data": {
      "image/png": "[encoded data removed]",
      "text/plain": [
       "<Figure size 432x288 with 1 Axes>"
      ]
     },
     "metadata": {},
     "output_type": "display_data"
    }
   ],
   "source": [
    "sns.histplot(data=train,x='Age',hue='Pclass',multiple='stack')\n",
    "plt.xlim(left=30,right=50);"
   ]
  },
  {
   "cell_type": "markdown",
   "id": "8e720cca",
   "metadata": {},
   "source": [
    "#### Separate age into categories"
   ]
  },
  {
   "cell_type": "code",
   "execution_count": 24,
   "id": "981cb4ea",
   "metadata": {
    "execution": {
     "iopub.execute_input": "2022-04-07T16:15:54.166401Z",
     "iopub.status.busy": "2022-04-07T16:15:54.165186Z",
     "iopub.status.idle": "2022-04-07T16:15:54.172311Z",
     "shell.execute_reply": "2022-04-07T16:15:54.172851Z",
     "shell.execute_reply.started": "2022-04-07T15:51:46.628348Z"
    },
    "papermill": {
     "duration": 0.101152,
     "end_time": "2022-04-07T16:15:54.173075",
     "exception": false,
     "start_time": "2022-04-07T16:15:54.071923",
     "status": "completed"
    },
    "tags": []
   },
   "outputs": [],
   "source": [
    "all_data=[train,test]\n",
    "for dataset in all_data:    \n",
    "    dataset.loc[ dataset['Age'] <= 12, 'Age'] = 0 #Child\n",
    "    dataset.loc[(dataset['Age'] > 12) & (dataset['Age'] <= 19), 'Age'] = 1 #Teenager\n",
    "    dataset.loc[(dataset['Age'] > 19) & (dataset['Age'] <= 30), 'Age'] = 2 #Young adult\n",
    "    dataset.loc[(dataset['Age'] > 30) & (dataset['Age'] <= 50), 'Age'] = 3 #Adult\n",
    "    dataset.loc[(dataset['Age'] > 50), 'Age'] = 4 #Older adult\n",
    "    dataset['Age']=dataset['Age'].astype(int)"
   ]
  },
  {
   "cell_type": "markdown",
   "id": "b714a8b5",
   "metadata": {},
   "source": [
    "#### Onto fare..."
   ]
  },
  {
   "cell_type": "code",
   "execution_count": 25,
   "id": "1109766a",
   "metadata": {
    "execution": {
     "iopub.execute_input": "2022-04-07T16:15:54.336733Z",
     "iopub.status.busy": "2022-04-07T16:15:54.335736Z",
     "iopub.status.idle": "2022-04-07T16:15:55.668049Z",
     "shell.execute_reply": "2022-04-07T16:15:55.668623Z",
     "shell.execute_reply.started": "2022-04-07T15:51:56.849882Z"
    },
    "papermill": {
     "duration": 1.414777,
     "end_time": "2022-04-07T16:15:55.668808",
     "exception": false,
     "start_time": "2022-04-07T16:15:54.254031",
     "status": "completed"
    },
    "tags": []
   },
   "outputs": [
    {
     "data": {
      "image/png": "[encoded data removed]",
      "text/plain": [
       "<Figure size 432x288 with 1 Axes>"
      ]
     },
     "metadata": {},
     "output_type": "display_data"
    }
   ],
   "source": [
    "sns.histplot(data=train,x='Fare',hue='Pclass',multiple='stack')\n",
    "plt.xlim(left=0,right=100);"
   ]
  },
  {
   "cell_type": "code",
   "execution_count": 26,
   "id": "b210eb30",
   "metadata": {
    "execution": {
     "iopub.execute_input": "2022-04-07T16:15:55.849277Z",
     "iopub.status.busy": "2022-04-07T16:15:55.848126Z",
     "iopub.status.idle": "2022-04-07T16:15:57.091076Z",
     "shell.execute_reply": "2022-04-07T16:15:57.090493Z",
     "shell.execute_reply.started": "2022-04-07T15:52:08.099592Z"
    },
    "papermill": {
     "duration": 1.342157,
     "end_time": "2022-04-07T16:15:57.091259",
     "exception": false,
     "start_time": "2022-04-07T16:15:55.749102",
     "status": "completed"
    },
    "tags": []
   },
   "outputs": [
    {
     "data": {
      "image/png": "[encoded data removed]",
      "text/plain": [
       "<Figure size 432x288 with 1 Axes>"
      ]
     },
     "metadata": {},
     "output_type": "display_data"
    }
   ],
   "source": [
    "sns.histplot(data=train,x='Fare',hue='Pclass',multiple='stack')\n",
    "plt.xlim(left=0,right=30)\n",
    "plt.ylim(top=150);"
   ]
  },
  {
   "cell_type": "code",
   "execution_count": 27,
   "id": "e8567bcd",
   "metadata": {
    "execution": {
     "iopub.execute_input": "2022-04-07T16:15:57.267596Z",
     "iopub.status.busy": "2022-04-07T16:15:57.261384Z",
     "iopub.status.idle": "2022-04-07T16:15:58.479999Z",
     "shell.execute_reply": "2022-04-07T16:15:58.479313Z",
     "shell.execute_reply.started": "2022-04-07T15:52:16.969853Z"
    },
    "papermill": {
     "duration": 1.304735,
     "end_time": "2022-04-07T16:15:58.480163",
     "exception": false,
     "start_time": "2022-04-07T16:15:57.175428",
     "status": "completed"
    },
    "tags": []
   },
   "outputs": [
    {
     "data": {
      "image/png": "[encoded data removed]",
      "text/plain": [
       "<Figure size 432x288 with 1 Axes>"
      ]
     },
     "metadata": {},
     "output_type": "display_data"
    }
   ],
   "source": [
    "sns.histplot(data=train,x='Fare',hue='Pclass',multiple='stack')\n",
    "plt.xlim(left=40,right=120)\n",
    "plt.ylim(top=25);"
   ]
  },
  {
   "cell_type": "code",
   "execution_count": 28,
   "id": "67de5eae",
   "metadata": {
    "execution": {
     "iopub.execute_input": "2022-04-07T16:15:58.660281Z",
     "iopub.status.busy": "2022-04-07T16:15:58.656719Z",
     "iopub.status.idle": "2022-04-07T16:16:00.043176Z",
     "shell.execute_reply": "2022-04-07T16:16:00.043813Z",
     "shell.execute_reply.started": "2022-04-07T15:52:26.447682Z"
    },
    "papermill": {
     "duration": 1.480297,
     "end_time": "2022-04-07T16:16:00.044060",
     "exception": false,
     "start_time": "2022-04-07T16:15:58.563763",
     "status": "completed"
    },
    "scrolled": true,
    "tags": []
   },
   "outputs": [
    {
     "data": {
      "image/png": "[encoded data removed]",
      "text/plain": [
       "<Figure size 432x288 with 1 Axes>"
      ]
     },
     "metadata": {},
     "output_type": "display_data"
    }
   ],
   "source": [
    "sns.histplot(data=train,x='Fare',hue='Pclass',multiple='stack')\n",
    "plt.xlim(left=70,right=100)\n",
    "plt.ylim(top=25);"
   ]
  },
  {
   "cell_type": "markdown",
   "id": "78242037",
   "metadata": {},
   "source": [
    "#### As with age, let's split the continous fare data into discrete categories"
   ]
  },
  {
   "cell_type": "code",
   "execution_count": 29,
   "id": "c21e26e8",
   "metadata": {
    "execution": {
     "iopub.execute_input": "2022-04-07T16:16:00.231109Z",
     "iopub.status.busy": "2022-04-07T16:16:00.225242Z",
     "iopub.status.idle": "2022-04-07T16:16:00.233912Z",
     "shell.execute_reply": "2022-04-07T16:16:00.233352Z",
     "shell.execute_reply.started": "2022-04-07T15:53:05.876827Z"
    },
    "papermill": {
     "duration": 0.104187,
     "end_time": "2022-04-07T16:16:00.234108",
     "exception": false,
     "start_time": "2022-04-07T16:16:00.129921",
     "status": "completed"
    },
    "tags": []
   },
   "outputs": [],
   "source": [
    "all_data=[train,test]\n",
    "for dataset in all_data:    \n",
    "    dataset.loc[ dataset['Fare'] <= 10, 'Fare'] = 0 #Low\n",
    "    dataset.loc[(dataset['Fare'] > 10) & (dataset['Fare'] <= 25), 'Fare'] = 1 #Middle\n",
    "    dataset.loc[(dataset['Fare'] > 25) & (dataset['Fare'] <= 80), 'Fare'] = 2 #High\n",
    "    dataset.loc[(dataset['Fare'] > 80), 'Fare'] = 3 #Super high\n",
    "    dataset['Fare']=dataset['Fare'].astype(int)"
   ]
  },
  {
   "cell_type": "markdown",
   "id": "2bac5511",
   "metadata": {},
   "source": [
    "### 5. Map integers onto non-int data. So that means Sex, Embarked, and Title."
   ]
  },
  {
   "cell_type": "code",
   "execution_count": 30,
   "id": "c216dd4e",
   "metadata": {
    "execution": {
     "iopub.execute_input": "2022-04-07T16:16:00.416436Z",
     "iopub.status.busy": "2022-04-07T16:16:00.415463Z",
     "iopub.status.idle": "2022-04-07T16:16:00.419298Z",
     "shell.execute_reply": "2022-04-07T16:16:00.419800Z",
     "shell.execute_reply.started": "2022-04-07T15:53:15.162489Z"
    },
    "papermill": {
     "duration": 0.102597,
     "end_time": "2022-04-07T16:16:00.420009",
     "exception": false,
     "start_time": "2022-04-07T16:16:00.317412",
     "status": "completed"
    },
    "scrolled": true,
    "tags": []
   },
   "outputs": [
    {
     "data": {
      "text/html": [
       "<div>\n",
       "<style scoped>\n",
       "    .dataframe tbody tr th:only-of-type {\n",
       "        vertical-align: middle;\n",
       "    }\n",
       "\n",
       "    .dataframe tbody tr th {\n",
       "        vertical-align: top;\n",
       "    }\n",
       "\n",
       "    .dataframe thead th {\n",
       "        text-align: right;\n",
       "    }\n",
       "</style>\n",
       "<table border=\"1\" class=\"dataframe\">\n",
       "  <thead>\n",
       "    <tr style=\"text-align: right;\">\n",
       "      <th></th>\n",
       "      <th>PassengerId</th>\n",
       "      <th>Survived</th>\n",
       "      <th>Pclass</th>\n",
       "      <th>Name</th>\n",
       "      <th>Sex</th>\n",
       "      <th>Age</th>\n",
       "      <th>SibSp</th>\n",
       "      <th>Parch</th>\n",
       "      <th>Fare</th>\n",
       "      <th>Embarked</th>\n",
       "      <th>Title</th>\n",
       "    </tr>\n",
       "  </thead>\n",
       "  <tbody>\n",
       "    <tr>\n",
       "      <th>0</th>\n",
       "      <td>1</td>\n",
       "      <td>0</td>\n",
       "      <td>3</td>\n",
       "      <td>Braund, Mr. Owen Harris</td>\n",
       "      <td>male</td>\n",
       "      <td>2</td>\n",
       "      <td>1</td>\n",
       "      <td>0</td>\n",
       "      <td>0</td>\n",
       "      <td>S</td>\n",
       "      <td>Mr</td>\n",
       "    </tr>\n",
       "    <tr>\n",
       "      <th>1</th>\n",
       "      <td>2</td>\n",
       "      <td>1</td>\n",
       "      <td>1</td>\n",
       "      <td>Cumings, Mrs. John Bradley (Florence Briggs Th...</td>\n",
       "      <td>female</td>\n",
       "      <td>3</td>\n",
       "      <td>1</td>\n",
       "      <td>0</td>\n",
       "      <td>2</td>\n",
       "      <td>C</td>\n",
       "      <td>Mrs</td>\n",
       "    </tr>\n",
       "    <tr>\n",
       "      <th>2</th>\n",
       "      <td>3</td>\n",
       "      <td>1</td>\n",
       "      <td>3</td>\n",
       "      <td>Heikkinen, Miss. Laina</td>\n",
       "      <td>female</td>\n",
       "      <td>2</td>\n",
       "      <td>0</td>\n",
       "      <td>0</td>\n",
       "      <td>0</td>\n",
       "      <td>S</td>\n",
       "      <td>Miss</td>\n",
       "    </tr>\n",
       "    <tr>\n",
       "      <th>3</th>\n",
       "      <td>4</td>\n",
       "      <td>1</td>\n",
       "      <td>1</td>\n",
       "      <td>Futrelle, Mrs. Jacques Heath (Lily May Peel)</td>\n",
       "      <td>female</td>\n",
       "      <td>3</td>\n",
       "      <td>1</td>\n",
       "      <td>0</td>\n",
       "      <td>2</td>\n",
       "      <td>S</td>\n",
       "      <td>Mrs</td>\n",
       "    </tr>\n",
       "    <tr>\n",
       "      <th>4</th>\n",
       "      <td>5</td>\n",
       "      <td>0</td>\n",
       "      <td>3</td>\n",
       "      <td>Allen, Mr. William Henry</td>\n",
       "      <td>male</td>\n",
       "      <td>3</td>\n",
       "      <td>0</td>\n",
       "      <td>0</td>\n",
       "      <td>0</td>\n",
       "      <td>S</td>\n",
       "      <td>Mr</td>\n",
       "    </tr>\n",
       "  </tbody>\n",
       "</table>\n",
       "</div>"
      ],
      "text/plain": [
       "   PassengerId  Survived  Pclass  \\\n",
       "0            1         0       3   \n",
       "1            2         1       1   \n",
       "2            3         1       3   \n",
       "3            4         1       1   \n",
       "4            5         0       3   \n",
       "\n",
       "                                                Name     Sex  Age  SibSp  \\\n",
       "0                            Braund, Mr. Owen Harris    male    2      1   \n",
       "1  Cumings, Mrs. John Bradley (Florence Briggs Th...  female    3      1   \n",
       "2                             Heikkinen, Miss. Laina  female    2      0   \n",
       "3       Futrelle, Mrs. Jacques Heath (Lily May Peel)  female    3      1   \n",
       "4                           Allen, Mr. William Henry    male    3      0   \n",
       "\n",
       "   Parch  Fare Embarked Title  \n",
       "0      0     0        S    Mr  \n",
       "1      0     2        C   Mrs  \n",
       "2      0     0        S  Miss  \n",
       "3      0     2        S   Mrs  \n",
       "4      0     0        S    Mr  "
      ]
     },
     "execution_count": 30,
     "metadata": {},
     "output_type": "execute_result"
    }
   ],
   "source": [
    "train.head()"
   ]
  },
  {
   "cell_type": "markdown",
   "id": "bd37aa48",
   "metadata": {},
   "source": [
    "#### Start with the Sex column"
   ]
  },
  {
   "cell_type": "code",
   "execution_count": 31,
   "id": "9e3c7a79",
   "metadata": {
    "execution": {
     "iopub.execute_input": "2022-04-07T16:16:00.591474Z",
     "iopub.status.busy": "2022-04-07T16:16:00.590352Z",
     "iopub.status.idle": "2022-04-07T16:16:00.598880Z",
     "shell.execute_reply": "2022-04-07T16:16:00.599478Z",
     "shell.execute_reply.started": "2022-04-07T15:53:26.019452Z"
    },
    "papermill": {
     "duration": 0.09726,
     "end_time": "2022-04-07T16:16:00.599682",
     "exception": false,
     "start_time": "2022-04-07T16:16:00.502422",
     "status": "completed"
    },
    "tags": []
   },
   "outputs": [],
   "source": [
    "all_data=[train,test]\n",
    "for dataset in all_data: \n",
    "    dataset['Sex'] = dataset['Sex'].map({'female': 1, 'male': 0}).astype(int)"
   ]
  },
  {
   "cell_type": "markdown",
   "id": "f1b93719",
   "metadata": {},
   "source": [
    "#### Then Embarked..."
   ]
  },
  {
   "cell_type": "code",
   "execution_count": 32,
   "id": "a48a18d3",
   "metadata": {
    "execution": {
     "iopub.execute_input": "2022-04-07T16:16:00.773316Z",
     "iopub.status.busy": "2022-04-07T16:16:00.772240Z",
     "iopub.status.idle": "2022-04-07T16:16:00.780146Z",
     "shell.execute_reply": "2022-04-07T16:16:00.780646Z",
     "shell.execute_reply.started": "2022-04-07T15:53:45.272141Z"
    },
    "papermill": {
     "duration": 0.098689,
     "end_time": "2022-04-07T16:16:00.780858",
     "exception": false,
     "start_time": "2022-04-07T16:16:00.682169",
     "status": "completed"
    },
    "tags": []
   },
   "outputs": [],
   "source": [
    "all_data=[train,test]\n",
    "for dataset in all_data:\n",
    "    dataset['Embarked'] = dataset['Embarked'].map({'S': 0, 'C': 1, 'Q': 2}).astype(int)"
   ]
  },
  {
   "cell_type": "markdown",
   "id": "691fb674",
   "metadata": {},
   "source": [
    "#### And finally for Title, filling in those without a title with \"0\""
   ]
  },
  {
   "cell_type": "code",
   "execution_count": 33,
   "id": "7c553b6e",
   "metadata": {
    "execution": {
     "iopub.execute_input": "2022-04-07T16:16:00.958996Z",
     "iopub.status.busy": "2022-04-07T16:16:00.952481Z",
     "iopub.status.idle": "2022-04-07T16:16:00.966675Z",
     "shell.execute_reply": "2022-04-07T16:16:00.967491Z",
     "shell.execute_reply.started": "2022-04-07T15:53:54.544285Z"
    },
    "papermill": {
     "duration": 0.104754,
     "end_time": "2022-04-07T16:16:00.967805",
     "exception": false,
     "start_time": "2022-04-07T16:16:00.863051",
     "status": "completed"
    },
    "tags": []
   },
   "outputs": [],
   "source": [
    "all_data=[train,test]\n",
    "for dataset in all_data:\n",
    "    dataset['Title'] = dataset['Title'].map({\"Mr\": 1, \"Miss\": 2, \"Mrs\": 3, \"Master\": 4, \"Other\": 5}).astype(int)\n",
    "    dataset['Title'] = dataset['Title'].fillna(0)"
   ]
  },
  {
   "cell_type": "markdown",
   "id": "e1fe560c",
   "metadata": {},
   "source": [
    "### 6. Drop redundant properties. We don't need PassengerID or Name in the datasets anymore. \n",
    "#### However, be sure to stick the test set's PassengerIDs elsewhere to tack it onto the submission file!"
   ]
  },
  {
   "cell_type": "code",
   "execution_count": 34,
   "id": "b7fb6897",
   "metadata": {
    "execution": {
     "iopub.execute_input": "2022-04-07T16:16:01.159417Z",
     "iopub.status.busy": "2022-04-07T16:16:01.158357Z",
     "iopub.status.idle": "2022-04-07T16:16:01.176453Z",
     "shell.execute_reply": "2022-04-07T16:16:01.177272Z",
     "shell.execute_reply.started": "2022-04-07T15:54:06.658346Z"
    },
    "papermill": {
     "duration": 0.110887,
     "end_time": "2022-04-07T16:16:01.177540",
     "exception": false,
     "start_time": "2022-04-07T16:16:01.066653",
     "status": "completed"
    },
    "tags": []
   },
   "outputs": [
    {
     "data": {
      "text/html": [
       "<div>\n",
       "<style scoped>\n",
       "    .dataframe tbody tr th:only-of-type {\n",
       "        vertical-align: middle;\n",
       "    }\n",
       "\n",
       "    .dataframe tbody tr th {\n",
       "        vertical-align: top;\n",
       "    }\n",
       "\n",
       "    .dataframe thead th {\n",
       "        text-align: right;\n",
       "    }\n",
       "</style>\n",
       "<table border=\"1\" class=\"dataframe\">\n",
       "  <thead>\n",
       "    <tr style=\"text-align: right;\">\n",
       "      <th></th>\n",
       "      <th>PassengerId</th>\n",
       "      <th>Survived</th>\n",
       "      <th>Pclass</th>\n",
       "      <th>Name</th>\n",
       "      <th>Sex</th>\n",
       "      <th>Age</th>\n",
       "      <th>SibSp</th>\n",
       "      <th>Parch</th>\n",
       "      <th>Fare</th>\n",
       "      <th>Embarked</th>\n",
       "      <th>Title</th>\n",
       "    </tr>\n",
       "  </thead>\n",
       "  <tbody>\n",
       "    <tr>\n",
       "      <th>0</th>\n",
       "      <td>1</td>\n",
       "      <td>0</td>\n",
       "      <td>3</td>\n",
       "      <td>Braund, Mr. Owen Harris</td>\n",
       "      <td>0</td>\n",
       "      <td>2</td>\n",
       "      <td>1</td>\n",
       "      <td>0</td>\n",
       "      <td>0</td>\n",
       "      <td>0</td>\n",
       "      <td>1</td>\n",
       "    </tr>\n",
       "    <tr>\n",
       "      <th>1</th>\n",
       "      <td>2</td>\n",
       "      <td>1</td>\n",
       "      <td>1</td>\n",
       "      <td>Cumings, Mrs. John Bradley (Florence Briggs Th...</td>\n",
       "      <td>1</td>\n",
       "      <td>3</td>\n",
       "      <td>1</td>\n",
       "      <td>0</td>\n",
       "      <td>2</td>\n",
       "      <td>1</td>\n",
       "      <td>3</td>\n",
       "    </tr>\n",
       "    <tr>\n",
       "      <th>2</th>\n",
       "      <td>3</td>\n",
       "      <td>1</td>\n",
       "      <td>3</td>\n",
       "      <td>Heikkinen, Miss. Laina</td>\n",
       "      <td>1</td>\n",
       "      <td>2</td>\n",
       "      <td>0</td>\n",
       "      <td>0</td>\n",
       "      <td>0</td>\n",
       "      <td>0</td>\n",
       "      <td>2</td>\n",
       "    </tr>\n",
       "    <tr>\n",
       "      <th>3</th>\n",
       "      <td>4</td>\n",
       "      <td>1</td>\n",
       "      <td>1</td>\n",
       "      <td>Futrelle, Mrs. Jacques Heath (Lily May Peel)</td>\n",
       "      <td>1</td>\n",
       "      <td>3</td>\n",
       "      <td>1</td>\n",
       "      <td>0</td>\n",
       "      <td>2</td>\n",
       "      <td>0</td>\n",
       "      <td>3</td>\n",
       "    </tr>\n",
       "    <tr>\n",
       "      <th>4</th>\n",
       "      <td>5</td>\n",
       "      <td>0</td>\n",
       "      <td>3</td>\n",
       "      <td>Allen, Mr. William Henry</td>\n",
       "      <td>0</td>\n",
       "      <td>3</td>\n",
       "      <td>0</td>\n",
       "      <td>0</td>\n",
       "      <td>0</td>\n",
       "      <td>0</td>\n",
       "      <td>1</td>\n",
       "    </tr>\n",
       "  </tbody>\n",
       "</table>\n",
       "</div>"
      ],
      "text/plain": [
       "   PassengerId  Survived  Pclass  \\\n",
       "0            1         0       3   \n",
       "1            2         1       1   \n",
       "2            3         1       3   \n",
       "3            4         1       1   \n",
       "4            5         0       3   \n",
       "\n",
       "                                                Name  Sex  Age  SibSp  Parch  \\\n",
       "0                            Braund, Mr. Owen Harris    0    2      1      0   \n",
       "1  Cumings, Mrs. John Bradley (Florence Briggs Th...    1    3      1      0   \n",
       "2                             Heikkinen, Miss. Laina    1    2      0      0   \n",
       "3       Futrelle, Mrs. Jacques Heath (Lily May Peel)    1    3      1      0   \n",
       "4                           Allen, Mr. William Henry    0    3      0      0   \n",
       "\n",
       "   Fare  Embarked  Title  \n",
       "0     0         0      1  \n",
       "1     2         1      3  \n",
       "2     0         0      2  \n",
       "3     2         0      3  \n",
       "4     0         0      1  "
      ]
     },
     "execution_count": 34,
     "metadata": {},
     "output_type": "execute_result"
    }
   ],
   "source": [
    "train.head()"
   ]
  },
  {
   "cell_type": "code",
   "execution_count": 35,
   "id": "acd371c2",
   "metadata": {
    "execution": {
     "iopub.execute_input": "2022-04-07T16:16:01.371141Z",
     "iopub.status.busy": "2022-04-07T16:16:01.370010Z",
     "iopub.status.idle": "2022-04-07T16:16:01.372743Z",
     "shell.execute_reply": "2022-04-07T16:16:01.372127Z",
     "shell.execute_reply.started": "2022-04-07T15:54:15.681867Z"
    },
    "papermill": {
     "duration": 0.097174,
     "end_time": "2022-04-07T16:16:01.372893",
     "exception": false,
     "start_time": "2022-04-07T16:16:01.275719",
     "status": "completed"
    },
    "tags": []
   },
   "outputs": [],
   "source": [
    "test_ids=test['PassengerId']"
   ]
  },
  {
   "cell_type": "code",
   "execution_count": 36,
   "id": "7547ce7d",
   "metadata": {
    "execution": {
     "iopub.execute_input": "2022-04-07T16:16:01.553016Z",
     "iopub.status.busy": "2022-04-07T16:16:01.551893Z",
     "iopub.status.idle": "2022-04-07T16:16:01.556569Z",
     "shell.execute_reply": "2022-04-07T16:16:01.557154Z",
     "shell.execute_reply.started": "2022-04-07T15:54:25.457771Z"
    },
    "papermill": {
     "duration": 0.098603,
     "end_time": "2022-04-07T16:16:01.557356",
     "exception": false,
     "start_time": "2022-04-07T16:16:01.458753",
     "status": "completed"
    },
    "tags": []
   },
   "outputs": [],
   "source": [
    "train = train.drop(['Name','PassengerId'], axis=1)\n",
    "test = test.drop(['Name','PassengerId'], axis=1)"
   ]
  },
  {
   "cell_type": "markdown",
   "id": "ddbad64a",
   "metadata": {},
   "source": [
    "### Time for some ML!"
   ]
  },
  {
   "cell_type": "code",
   "execution_count": 37,
   "id": "e1ea265a",
   "metadata": {
    "execution": {
     "iopub.execute_input": "2022-04-07T16:16:01.736474Z",
     "iopub.status.busy": "2022-04-07T16:16:01.735330Z",
     "iopub.status.idle": "2022-04-07T16:16:01.737361Z",
     "shell.execute_reply": "2022-04-07T16:16:01.737846Z",
     "shell.execute_reply.started": "2022-04-07T15:54:54.081493Z"
    },
    "papermill": {
     "duration": 0.095279,
     "end_time": "2022-04-07T16:16:01.738063",
     "exception": false,
     "start_time": "2022-04-07T16:16:01.642784",
     "status": "completed"
    },
    "tags": []
   },
   "outputs": [],
   "source": [
    "from sklearn.model_selection import train_test_split\n",
    "X=train.drop('Survived', axis=1)\n",
    "y=train['Survived']"
   ]
  },
  {
   "cell_type": "markdown",
   "id": "995565fa",
   "metadata": {},
   "source": [
    "#### Split into test/training sets for the purpose of initial evaluation"
   ]
  },
  {
   "cell_type": "code",
   "execution_count": 38,
   "id": "1caeaabe",
   "metadata": {
    "execution": {
     "iopub.execute_input": "2022-04-07T16:16:01.914154Z",
     "iopub.status.busy": "2022-04-07T16:16:01.913093Z",
     "iopub.status.idle": "2022-04-07T16:16:01.919757Z",
     "shell.execute_reply": "2022-04-07T16:16:01.920392Z",
     "shell.execute_reply.started": "2022-04-07T15:55:05.362977Z"
    },
    "papermill": {
     "duration": 0.094889,
     "end_time": "2022-04-07T16:16:01.920623",
     "exception": false,
     "start_time": "2022-04-07T16:16:01.825734",
     "status": "completed"
    },
    "tags": []
   },
   "outputs": [],
   "source": [
    "X_train, X_test, y_train, y_test = train_test_split(X, y, test_size=0.2, random_state=101)"
   ]
  },
  {
   "cell_type": "markdown",
   "id": "dc6c1ed5",
   "metadata": {},
   "source": [
    "#### A quick function to check out the performance of multiple models"
   ]
  },
  {
   "cell_type": "code",
   "execution_count": 39,
   "id": "b1dfb04e",
   "metadata": {
    "execution": {
     "iopub.execute_input": "2022-04-07T16:16:02.093359Z",
     "iopub.status.busy": "2022-04-07T16:16:02.092462Z",
     "iopub.status.idle": "2022-04-07T16:16:02.095089Z",
     "shell.execute_reply": "2022-04-07T16:16:02.094532Z",
     "shell.execute_reply.started": "2022-04-07T15:55:22.394609Z"
    },
    "papermill": {
     "duration": 0.091064,
     "end_time": "2022-04-07T16:16:02.095246",
     "exception": false,
     "start_time": "2022-04-07T16:16:02.004182",
     "status": "completed"
    },
    "tags": []
   },
   "outputs": [],
   "source": [
    "from sklearn.metrics import classification_report, plot_roc_curve, plot_confusion_matrix, plot_precision_recall_curve\n",
    "def report(model):\n",
    "    preds = model.predict(X_test)\n",
    "    print(classification_report(y_test,preds))"
   ]
  },
  {
   "cell_type": "code",
   "execution_count": 40,
   "id": "872a5c7b",
   "metadata": {
    "execution": {
     "iopub.execute_input": "2022-04-07T16:16:02.268586Z",
     "iopub.status.busy": "2022-04-07T16:16:02.263977Z",
     "iopub.status.idle": "2022-04-07T16:16:02.284662Z",
     "shell.execute_reply": "2022-04-07T16:16:02.285241Z",
     "shell.execute_reply.started": "2022-04-07T15:55:47.700771Z"
    },
    "papermill": {
     "duration": 0.107029,
     "end_time": "2022-04-07T16:16:02.285440",
     "exception": false,
     "start_time": "2022-04-07T16:16:02.178411",
     "status": "completed"
    },
    "tags": []
   },
   "outputs": [
    {
     "data": {
      "text/plain": [
       "LogisticRegression(max_iter=1000)"
      ]
     },
     "execution_count": 40,
     "metadata": {},
     "output_type": "execute_result"
    }
   ],
   "source": [
    "#Logistic Regression\n",
    "from sklearn.linear_model import LogisticRegression\n",
    "log = LogisticRegression(max_iter=1000)\n",
    "log.fit(X_train,y_train)"
   ]
  },
  {
   "cell_type": "code",
   "execution_count": 41,
   "id": "cfe46edb",
   "metadata": {
    "execution": {
     "iopub.execute_input": "2022-04-07T16:16:02.457082Z",
     "iopub.status.busy": "2022-04-07T16:16:02.456366Z",
     "iopub.status.idle": "2022-04-07T16:16:02.524201Z",
     "shell.execute_reply": "2022-04-07T16:16:02.523513Z",
     "shell.execute_reply.started": "2022-04-07T15:56:05.143783Z"
    },
    "papermill": {
     "duration": 0.155327,
     "end_time": "2022-04-07T16:16:02.524364",
     "exception": false,
     "start_time": "2022-04-07T16:16:02.369037",
     "status": "completed"
    },
    "tags": []
   },
   "outputs": [
    {
     "data": {
      "text/plain": [
       "KNeighborsClassifier()"
      ]
     },
     "execution_count": 41,
     "metadata": {},
     "output_type": "execute_result"
    }
   ],
   "source": [
    "#KNN\n",
    "from sklearn.neighbors import KNeighborsClassifier\n",
    "knn = KNeighborsClassifier()\n",
    "knn.fit(X_train,y_train)"
   ]
  },
  {
   "cell_type": "code",
   "execution_count": 42,
   "id": "bfb3eb41",
   "metadata": {
    "execution": {
     "iopub.execute_input": "2022-04-07T16:16:02.699488Z",
     "iopub.status.busy": "2022-04-07T16:16:02.698757Z",
     "iopub.status.idle": "2022-04-07T16:16:02.735397Z",
     "shell.execute_reply": "2022-04-07T16:16:02.735875Z",
     "shell.execute_reply.started": "2022-04-07T15:56:45.619653Z"
    },
    "papermill": {
     "duration": 0.127619,
     "end_time": "2022-04-07T16:16:02.736107",
     "exception": false,
     "start_time": "2022-04-07T16:16:02.608488",
     "status": "completed"
    },
    "tags": []
   },
   "outputs": [
    {
     "data": {
      "text/plain": [
       "LinearSVC()"
      ]
     },
     "execution_count": 42,
     "metadata": {},
     "output_type": "execute_result"
    }
   ],
   "source": [
    "#The SVMs that we already called. Starting with a linear kernel\n",
    "lsvc = LinearSVC()\n",
    "lsvc.fit(X_train,y_train)"
   ]
  },
  {
   "cell_type": "code",
   "execution_count": 43,
   "id": "6256827d",
   "metadata": {
    "execution": {
     "iopub.execute_input": "2022-04-07T16:16:02.915312Z",
     "iopub.status.busy": "2022-04-07T16:16:02.914627Z",
     "iopub.status.idle": "2022-04-07T16:16:02.937515Z",
     "shell.execute_reply": "2022-04-07T16:16:02.938061Z",
     "shell.execute_reply.started": "2022-04-07T15:57:07.614042Z"
    },
    "papermill": {
     "duration": 0.110756,
     "end_time": "2022-04-07T16:16:02.938266",
     "exception": false,
     "start_time": "2022-04-07T16:16:02.827510",
     "status": "completed"
    },
    "tags": []
   },
   "outputs": [
    {
     "data": {
      "text/plain": [
       "SVC()"
      ]
     },
     "execution_count": 43,
     "metadata": {},
     "output_type": "execute_result"
    }
   ],
   "source": [
    "#...and then the radial\n",
    "svc = SVC()\n",
    "svc.fit(X_train,y_train)"
   ]
  },
  {
   "cell_type": "code",
   "execution_count": 44,
   "id": "e5648e32",
   "metadata": {
    "execution": {
     "iopub.execute_input": "2022-04-07T16:16:03.111674Z",
     "iopub.status.busy": "2022-04-07T16:16:03.110948Z",
     "iopub.status.idle": "2022-04-07T16:16:03.122142Z",
     "shell.execute_reply": "2022-04-07T16:16:03.122695Z",
     "shell.execute_reply.started": "2022-04-07T15:57:40.199181Z"
    },
    "papermill": {
     "duration": 0.099399,
     "end_time": "2022-04-07T16:16:03.122906",
     "exception": false,
     "start_time": "2022-04-07T16:16:03.023507",
     "status": "completed"
    },
    "tags": []
   },
   "outputs": [
    {
     "data": {
      "text/plain": [
       "MultinomialNB()"
      ]
     },
     "execution_count": 44,
     "metadata": {},
     "output_type": "execute_result"
    }
   ],
   "source": [
    "#Naive Bayes (multinomial)\n",
    "from sklearn.naive_bayes import MultinomialNB\n",
    "nb = MultinomialNB()\n",
    "nb.fit(X_train,y_train)"
   ]
  },
  {
   "cell_type": "code",
   "execution_count": 45,
   "id": "2623f976",
   "metadata": {
    "execution": {
     "iopub.execute_input": "2022-04-07T16:16:03.297130Z",
     "iopub.status.busy": "2022-04-07T16:16:03.296445Z",
     "iopub.status.idle": "2022-04-07T16:16:03.304618Z",
     "shell.execute_reply": "2022-04-07T16:16:03.305245Z",
     "shell.execute_reply.started": "2022-04-07T15:57:57.476659Z"
    },
    "papermill": {
     "duration": 0.097154,
     "end_time": "2022-04-07T16:16:03.305443",
     "exception": false,
     "start_time": "2022-04-07T16:16:03.208289",
     "status": "completed"
    },
    "tags": []
   },
   "outputs": [
    {
     "data": {
      "text/plain": [
       "GaussianNB()"
      ]
     },
     "execution_count": 45,
     "metadata": {},
     "output_type": "execute_result"
    }
   ],
   "source": [
    "#And gaussian\n",
    "from sklearn.naive_bayes import GaussianNB\n",
    "gnb = GaussianNB()\n",
    "gnb.fit(X_train,y_train)"
   ]
  },
  {
   "cell_type": "code",
   "execution_count": 46,
   "id": "4b8e34bd",
   "metadata": {
    "execution": {
     "iopub.execute_input": "2022-04-07T16:16:03.482932Z",
     "iopub.status.busy": "2022-04-07T16:16:03.481816Z",
     "iopub.status.idle": "2022-04-07T16:16:03.520312Z",
     "shell.execute_reply": "2022-04-07T16:16:03.520835Z",
     "shell.execute_reply.started": "2022-04-07T15:58:31.763016Z"
    },
    "papermill": {
     "duration": 0.129916,
     "end_time": "2022-04-07T16:16:03.521056",
     "exception": false,
     "start_time": "2022-04-07T16:16:03.391140",
     "status": "completed"
    },
    "tags": []
   },
   "outputs": [
    {
     "data": {
      "text/plain": [
       "DecisionTreeClassifier()"
      ]
     },
     "execution_count": 46,
     "metadata": {},
     "output_type": "execute_result"
    }
   ],
   "source": [
    "#Let's bring some trees into the mix. First up, the Decision Tree Classifier\n",
    "from sklearn.tree import DecisionTreeClassifier\n",
    "dtc = DecisionTreeClassifier()\n",
    "dtc.fit(X_train,y_train)"
   ]
  },
  {
   "cell_type": "code",
   "execution_count": 47,
   "id": "8c486ba9",
   "metadata": {
    "execution": {
     "iopub.execute_input": "2022-04-07T16:16:03.696859Z",
     "iopub.status.busy": "2022-04-07T16:16:03.695766Z",
     "iopub.status.idle": "2022-04-07T16:16:03.962771Z",
     "shell.execute_reply": "2022-04-07T16:16:03.962216Z",
     "shell.execute_reply.started": "2022-04-07T15:58:51.497655Z"
    },
    "papermill": {
     "duration": 0.35622,
     "end_time": "2022-04-07T16:16:03.962932",
     "exception": false,
     "start_time": "2022-04-07T16:16:03.606712",
     "status": "completed"
    },
    "tags": []
   },
   "outputs": [
    {
     "data": {
      "text/plain": [
       "RandomForestClassifier()"
      ]
     },
     "execution_count": 47,
     "metadata": {},
     "output_type": "execute_result"
    }
   ],
   "source": [
    "#And the random forest\n",
    "from sklearn.ensemble import RandomForestClassifier\n",
    "rfc = RandomForestClassifier()\n",
    "rfc.fit(X_train,y_train)"
   ]
  },
  {
   "cell_type": "code",
   "execution_count": 48,
   "id": "f2664ff7",
   "metadata": {
    "execution": {
     "iopub.execute_input": "2022-04-07T16:16:04.146484Z",
     "iopub.status.busy": "2022-04-07T16:16:04.145736Z",
     "iopub.status.idle": "2022-04-07T16:16:04.237731Z",
     "shell.execute_reply": "2022-04-07T16:16:04.237121Z",
     "shell.execute_reply.started": "2022-04-07T15:59:12.969590Z"
    },
    "papermill": {
     "duration": 0.187424,
     "end_time": "2022-04-07T16:16:04.237891",
     "exception": false,
     "start_time": "2022-04-07T16:16:04.050467",
     "status": "completed"
    },
    "tags": []
   },
   "outputs": [
    {
     "data": {
      "text/plain": [
       "AdaBoostClassifier()"
      ]
     },
     "execution_count": 48,
     "metadata": {},
     "output_type": "execute_result"
    }
   ],
   "source": [
    "#Boosted trees starting with AdaBoost\n",
    "from sklearn.ensemble import AdaBoostClassifier, GradientBoostingClassifier\n",
    "ada = AdaBoostClassifier()\n",
    "ada.fit(X_train,y_train)"
   ]
  },
  {
   "cell_type": "code",
   "execution_count": 49,
   "id": "92c1190e",
   "metadata": {
    "execution": {
     "iopub.execute_input": "2022-04-07T16:16:04.421454Z",
     "iopub.status.busy": "2022-04-07T16:16:04.420055Z",
     "iopub.status.idle": "2022-04-07T16:16:04.519322Z",
     "shell.execute_reply": "2022-04-07T16:16:04.518136Z",
     "shell.execute_reply.started": "2022-04-07T15:59:35.063207Z"
    },
    "papermill": {
     "duration": 0.194483,
     "end_time": "2022-04-07T16:16:04.519510",
     "exception": false,
     "start_time": "2022-04-07T16:16:04.325027",
     "status": "completed"
    },
    "tags": []
   },
   "outputs": [
    {
     "data": {
      "text/plain": [
       "GradientBoostingClassifier()"
      ]
     },
     "execution_count": 49,
     "metadata": {},
     "output_type": "execute_result"
    }
   ],
   "source": [
    "#And everyone's favorite, the gradient boost\n",
    "gbc = GradientBoostingClassifier()\n",
    "gbc.fit(X_train,y_train)"
   ]
  },
  {
   "cell_type": "code",
   "execution_count": 50,
   "id": "2fa90fb3",
   "metadata": {
    "execution": {
     "iopub.execute_input": "2022-04-07T16:16:04.701319Z",
     "iopub.status.busy": "2022-04-07T16:16:04.700583Z",
     "iopub.status.idle": "2022-04-07T16:16:04.731705Z",
     "shell.execute_reply": "2022-04-07T16:16:04.732301Z",
     "shell.execute_reply.started": "2022-04-07T16:00:00.205553Z"
    },
    "papermill": {
     "duration": 0.125012,
     "end_time": "2022-04-07T16:16:04.732499",
     "exception": false,
     "start_time": "2022-04-07T16:16:04.607487",
     "status": "completed"
    },
    "scrolled": true,
    "tags": []
   },
   "outputs": [
    {
     "data": {
      "text/plain": [
       "LinearDiscriminantAnalysis()"
      ]
     },
     "execution_count": 50,
     "metadata": {},
     "output_type": "execute_result"
    }
   ],
   "source": [
    "#Last, but not least, LDA\n",
    "from sklearn.discriminant_analysis import LinearDiscriminantAnalysis\n",
    "lda = LinearDiscriminantAnalysis()\n",
    "lda.fit(X_train,y_train)"
   ]
  },
  {
   "cell_type": "markdown",
   "id": "3ba445a2",
   "metadata": {},
   "source": [
    "### Run them all!"
   ]
  },
  {
   "cell_type": "code",
   "execution_count": 51,
   "id": "82d729e5",
   "metadata": {
    "execution": {
     "iopub.execute_input": "2022-04-07T16:16:04.922645Z",
     "iopub.status.busy": "2022-04-07T16:16:04.917904Z",
     "iopub.status.idle": "2022-04-07T16:16:05.040201Z",
     "shell.execute_reply": "2022-04-07T16:16:05.040722Z",
     "shell.execute_reply.started": "2022-04-07T16:00:15.654906Z"
    },
    "papermill": {
     "duration": 0.219746,
     "end_time": "2022-04-07T16:16:05.040938",
     "exception": false,
     "start_time": "2022-04-07T16:16:04.821192",
     "status": "completed"
    },
    "scrolled": false,
    "tags": []
   },
   "outputs": [
    {
     "name": "stdout",
     "output_type": "stream",
     "text": [
      "******************************LOGISTIC REGRESSION******************************\n",
      "              precision    recall  f1-score   support\n",
      "\n",
      "           0       0.79      0.91      0.85        99\n",
      "           1       0.86      0.70      0.77        80\n",
      "\n",
      "    accuracy                           0.82       179\n",
      "   macro avg       0.83      0.80      0.81       179\n",
      "weighted avg       0.82      0.82      0.81       179\n",
      "\n",
      "******************************K-NEIGHBORS******************************\n",
      "              precision    recall  f1-score   support\n",
      "\n",
      "           0       0.78      0.88      0.82        99\n",
      "           1       0.82      0.69      0.75        80\n",
      "\n",
      "    accuracy                           0.79       179\n",
      "   macro avg       0.80      0.78      0.79       179\n",
      "weighted avg       0.80      0.79      0.79       179\n",
      "\n",
      "******************************LINEAR SVC******************************\n",
      "              precision    recall  f1-score   support\n",
      "\n",
      "           0       0.78      0.91      0.84        99\n",
      "           1       0.86      0.69      0.76        80\n",
      "\n",
      "    accuracy                           0.81       179\n",
      "   macro avg       0.82      0.80      0.80       179\n",
      "weighted avg       0.82      0.81      0.81       179\n",
      "\n",
      "******************************SVC******************************\n",
      "              precision    recall  f1-score   support\n",
      "\n",
      "           0       0.79      0.93      0.86        99\n",
      "           1       0.89      0.70      0.78        80\n",
      "\n",
      "    accuracy                           0.83       179\n",
      "   macro avg       0.84      0.81      0.82       179\n",
      "weighted avg       0.84      0.83      0.82       179\n",
      "\n",
      "******************************NAIVE BAYES (Multinomial)******************************\n",
      "              precision    recall  f1-score   support\n",
      "\n",
      "           0       0.75      0.93      0.83        99\n",
      "           1       0.88      0.62      0.73        80\n",
      "\n",
      "    accuracy                           0.79       179\n",
      "   macro avg       0.82      0.78      0.78       179\n",
      "weighted avg       0.81      0.79      0.79       179\n",
      "\n",
      "******************************NAIVE BAYES (Gaussian)******************************\n",
      "              precision    recall  f1-score   support\n",
      "\n",
      "           0       0.80      0.84      0.82        99\n",
      "           1       0.79      0.74      0.76        80\n",
      "\n",
      "    accuracy                           0.79       179\n",
      "   macro avg       0.79      0.79      0.79       179\n",
      "weighted avg       0.79      0.79      0.79       179\n",
      "\n",
      "******************************DECISION TREE******************************\n",
      "              precision    recall  f1-score   support\n",
      "\n",
      "           0       0.75      0.93      0.83        99\n",
      "           1       0.88      0.61      0.72        80\n",
      "\n",
      "    accuracy                           0.79       179\n",
      "   macro avg       0.81      0.77      0.77       179\n",
      "weighted avg       0.80      0.79      0.78       179\n",
      "\n",
      "******************************RANDOM FOREST******************************\n",
      "              precision    recall  f1-score   support\n",
      "\n",
      "           0       0.78      0.91      0.84        99\n",
      "           1       0.86      0.68      0.76        80\n",
      "\n",
      "    accuracy                           0.80       179\n",
      "   macro avg       0.82      0.79      0.80       179\n",
      "weighted avg       0.81      0.80      0.80       179\n",
      "\n",
      "******************************ADABOOSTING******************************\n",
      "              precision    recall  f1-score   support\n",
      "\n",
      "           0       0.80      0.91      0.85        99\n",
      "           1       0.86      0.71      0.78        80\n",
      "\n",
      "    accuracy                           0.82       179\n",
      "   macro avg       0.83      0.81      0.81       179\n",
      "weighted avg       0.83      0.82      0.82       179\n",
      "\n",
      "******************************GRADIENT BOOSTING******************************\n",
      "              precision    recall  f1-score   support\n",
      "\n",
      "           0       0.77      0.97      0.86        99\n",
      "           1       0.95      0.65      0.77        80\n",
      "\n",
      "    accuracy                           0.83       179\n",
      "   macro avg       0.86      0.81      0.82       179\n",
      "weighted avg       0.85      0.83      0.82       179\n",
      "\n",
      "******************************LINEAR DISCRIMINANT ANALYSIS******************************\n",
      "              precision    recall  f1-score   support\n",
      "\n",
      "           0       0.78      0.90      0.84        99\n",
      "           1       0.85      0.69      0.76        80\n",
      "\n",
      "    accuracy                           0.80       179\n",
      "   macro avg       0.81      0.79      0.80       179\n",
      "weighted avg       0.81      0.80      0.80       179\n",
      "\n"
     ]
    }
   ],
   "source": [
    "print((30*'*')+'LOGISTIC REGRESSION'+(30*'*'))\n",
    "report(log)\n",
    "print((30*'*')+'K-NEIGHBORS'+(30*'*'))\n",
    "report(knn)\n",
    "print((30*'*')+'LINEAR SVC'+(30*'*'))\n",
    "report(lsvc)\n",
    "print((30*'*')+'SVC'+(30*'*'))\n",
    "report(svc)\n",
    "print((30*'*')+'NAIVE BAYES (Multinomial)'+(30*'*'))\n",
    "report(nb)\n",
    "print((30*'*')+'NAIVE BAYES (Gaussian)'+(30*'*'))\n",
    "report(gnb)\n",
    "print((30*'*')+'DECISION TREE'+(30*'*'))\n",
    "report(dtc)\n",
    "print((30*'*')+'RANDOM FOREST'+(30*'*'))\n",
    "report(rfc)\n",
    "print((30*'*')+'ADABOOSTING'+(30*'*'))\n",
    "report(ada)\n",
    "print((30*'*')+'GRADIENT BOOSTING'+(30*'*'))\n",
    "report(gbc)\n",
    "print((30*'*')+'LINEAR DISCRIMINANT ANALYSIS'+(30*'*'))\n",
    "report(lda)"
   ]
  },
  {
   "cell_type": "markdown",
   "id": "adab7b77",
   "metadata": {},
   "source": [
    "### None performed terribly, but let's look into SVC and gradient boosting a bit more with some grid searches."
   ]
  },
  {
   "cell_type": "code",
   "execution_count": 52,
   "id": "f9eb419b",
   "metadata": {
    "execution": {
     "iopub.execute_input": "2022-04-07T16:16:05.222883Z",
     "iopub.status.busy": "2022-04-07T16:16:05.222199Z",
     "iopub.status.idle": "2022-04-07T16:16:05.225767Z",
     "shell.execute_reply": "2022-04-07T16:16:05.226341Z",
     "shell.execute_reply.started": "2022-04-07T16:01:04.216138Z"
    },
    "papermill": {
     "duration": 0.095766,
     "end_time": "2022-04-07T16:16:05.226546",
     "exception": false,
     "start_time": "2022-04-07T16:16:05.130780",
     "status": "completed"
    },
    "tags": []
   },
   "outputs": [],
   "source": [
    "from sklearn.model_selection import GridSearchCV"
   ]
  },
  {
   "cell_type": "code",
   "execution_count": 53,
   "id": "9b95f50e",
   "metadata": {
    "execution": {
     "iopub.execute_input": "2022-04-07T16:16:05.409417Z",
     "iopub.status.busy": "2022-04-07T16:16:05.408690Z",
     "iopub.status.idle": "2022-04-07T16:16:05.412807Z",
     "shell.execute_reply": "2022-04-07T16:16:05.413401Z",
     "shell.execute_reply.started": "2022-04-07T16:01:16.766003Z"
    },
    "papermill": {
     "duration": 0.097171,
     "end_time": "2022-04-07T16:16:05.413612",
     "exception": false,
     "start_time": "2022-04-07T16:16:05.316441",
     "status": "completed"
    },
    "tags": []
   },
   "outputs": [],
   "source": [
    "#Parameter grid for the SVC\n",
    "svc_grid={\n",
    "    'C':[0.001,0.01,0.1,0.5,1],\n",
    "    'gamma':['scale','auto']\n",
    "}"
   ]
  },
  {
   "cell_type": "code",
   "execution_count": 54,
   "id": "12de102d",
   "metadata": {
    "execution": {
     "iopub.execute_input": "2022-04-07T16:16:05.596557Z",
     "iopub.status.busy": "2022-04-07T16:16:05.595814Z",
     "iopub.status.idle": "2022-04-07T16:16:05.599436Z",
     "shell.execute_reply": "2022-04-07T16:16:05.599998Z",
     "shell.execute_reply.started": "2022-04-07T16:01:29.493068Z"
    },
    "papermill": {
     "duration": 0.095117,
     "end_time": "2022-04-07T16:16:05.600195",
     "exception": false,
     "start_time": "2022-04-07T16:16:05.505078",
     "status": "completed"
    },
    "tags": []
   },
   "outputs": [],
   "source": [
    "svc_gs = GridSearchCV(svc,svc_grid)"
   ]
  },
  {
   "cell_type": "code",
   "execution_count": 55,
   "id": "c07935be",
   "metadata": {
    "execution": {
     "iopub.execute_input": "2022-04-07T16:16:05.783919Z",
     "iopub.status.busy": "2022-04-07T16:16:05.783259Z",
     "iopub.status.idle": "2022-04-07T16:16:06.800516Z",
     "shell.execute_reply": "2022-04-07T16:16:06.801495Z",
     "shell.execute_reply.started": "2022-04-07T16:01:37.176152Z"
    },
    "papermill": {
     "duration": 1.111021,
     "end_time": "2022-04-07T16:16:06.801811",
     "exception": false,
     "start_time": "2022-04-07T16:16:05.690790",
     "status": "completed"
    },
    "tags": []
   },
   "outputs": [
    {
     "data": {
      "text/plain": [
       "GridSearchCV(estimator=SVC(),\n",
       "             param_grid={'C': [0.001, 0.01, 0.1, 0.5, 1],\n",
       "                         'gamma': ['scale', 'auto']})"
      ]
     },
     "execution_count": 55,
     "metadata": {},
     "output_type": "execute_result"
    }
   ],
   "source": [
    "svc_gs.fit(X_train, y_train)"
   ]
  },
  {
   "cell_type": "code",
   "execution_count": 56,
   "id": "f3c62200",
   "metadata": {
    "execution": {
     "iopub.execute_input": "2022-04-07T16:16:07.033975Z",
     "iopub.status.busy": "2022-04-07T16:16:07.033234Z",
     "iopub.status.idle": "2022-04-07T16:16:07.038323Z",
     "shell.execute_reply": "2022-04-07T16:16:07.039161Z",
     "shell.execute_reply.started": "2022-04-07T16:01:45.511499Z"
    },
    "papermill": {
     "duration": 0.109653,
     "end_time": "2022-04-07T16:16:07.039391",
     "exception": false,
     "start_time": "2022-04-07T16:16:06.929738",
     "status": "completed"
    },
    "tags": []
   },
   "outputs": [
    {
     "data": {
      "text/plain": [
       "{'C': 0.5, 'gamma': 'scale'}"
      ]
     },
     "execution_count": 56,
     "metadata": {},
     "output_type": "execute_result"
    }
   ],
   "source": [
    "svc_gs.best_params_"
   ]
  },
  {
   "cell_type": "code",
   "execution_count": 57,
   "id": "a0ae818b",
   "metadata": {
    "execution": {
     "iopub.execute_input": "2022-04-07T16:16:07.226498Z",
     "iopub.status.busy": "2022-04-07T16:16:07.225647Z",
     "iopub.status.idle": "2022-04-07T16:16:07.232098Z",
     "shell.execute_reply": "2022-04-07T16:16:07.232649Z",
     "shell.execute_reply.started": "2022-04-07T16:01:56.683553Z"
    },
    "papermill": {
     "duration": 0.099722,
     "end_time": "2022-04-07T16:16:07.232863",
     "exception": false,
     "start_time": "2022-04-07T16:16:07.133141",
     "status": "completed"
    },
    "tags": []
   },
   "outputs": [],
   "source": [
    "#Parameter grid for Gradient boost. It's robust to high numbers of estimators, so let's go wild.\n",
    "max_features = list(range(1,X.shape[1]))\n",
    "gbc_grid= {\n",
    "    'max_features':max_features,\n",
    "    'n_estimators':[5,10,20,100,250],\n",
    "    'max_depth':[3,4,5,6,7,8,9],\n",
    "    'learning_rate':[0.01,0.05,0.1]\n",
    "}"
   ]
  },
  {
   "cell_type": "code",
   "execution_count": 58,
   "id": "ea939a1b",
   "metadata": {
    "execution": {
     "iopub.execute_input": "2022-04-07T16:16:07.417213Z",
     "iopub.status.busy": "2022-04-07T16:16:07.416112Z",
     "iopub.status.idle": "2022-04-07T16:16:07.418791Z",
     "shell.execute_reply": "2022-04-07T16:16:07.418272Z",
     "shell.execute_reply.started": "2022-04-07T16:02:06.757788Z"
    },
    "papermill": {
     "duration": 0.096993,
     "end_time": "2022-04-07T16:16:07.418964",
     "exception": false,
     "start_time": "2022-04-07T16:16:07.321971",
     "status": "completed"
    },
    "tags": []
   },
   "outputs": [],
   "source": [
    "gbc_gs = GridSearchCV(gbc,gbc_grid)"
   ]
  },
  {
   "cell_type": "code",
   "execution_count": 59,
   "id": "e78e485b",
   "metadata": {
    "execution": {
     "iopub.execute_input": "2022-04-07T16:16:07.606757Z",
     "iopub.status.busy": "2022-04-07T16:16:07.605753Z",
     "iopub.status.idle": "2022-04-07T16:29:17.512507Z",
     "shell.execute_reply": "2022-04-07T16:29:17.513119Z",
     "shell.execute_reply.started": "2022-04-07T16:02:23.924172Z"
    },
    "papermill": {
     "duration": 790.002657,
     "end_time": "2022-04-07T16:29:17.513506",
     "exception": false,
     "start_time": "2022-04-07T16:16:07.510849",
     "status": "completed"
    },
    "tags": []
   },
   "outputs": [
    {
     "data": {
      "text/plain": [
       "GridSearchCV(estimator=GradientBoostingClassifier(),\n",
       "             param_grid={'learning_rate': [0.01, 0.05, 0.1],\n",
       "                         'max_depth': [3, 4, 5, 6, 7, 8, 9],\n",
       "                         'max_features': [1, 2, 3, 4, 5, 6, 7],\n",
       "                         'n_estimators': [5, 10, 20, 100, 250]})"
      ]
     },
     "execution_count": 59,
     "metadata": {},
     "output_type": "execute_result"
    }
   ],
   "source": [
    "gbc_gs.fit(X_train, y_train)"
   ]
  },
  {
   "cell_type": "code",
   "execution_count": 60,
   "id": "a9e846ec",
   "metadata": {
    "execution": {
     "iopub.execute_input": "2022-04-07T16:29:17.703659Z",
     "iopub.status.busy": "2022-04-07T16:29:17.702793Z",
     "iopub.status.idle": "2022-04-07T16:29:17.705893Z",
     "shell.execute_reply": "2022-04-07T16:29:17.706438Z",
     "shell.execute_reply.started": "2022-04-07T16:12:35.030405Z"
    },
    "papermill": {
     "duration": 0.103275,
     "end_time": "2022-04-07T16:29:17.706642",
     "exception": false,
     "start_time": "2022-04-07T16:29:17.603367",
     "status": "completed"
    },
    "tags": []
   },
   "outputs": [
    {
     "data": {
      "text/plain": [
       "{'learning_rate': 0.1, 'max_depth': 4, 'max_features': 4, 'n_estimators': 10}"
      ]
     },
     "execution_count": 60,
     "metadata": {},
     "output_type": "execute_result"
    }
   ],
   "source": [
    "gbc_gs.best_params_"
   ]
  },
  {
   "cell_type": "code",
   "execution_count": 61,
   "id": "d45ed3e3",
   "metadata": {
    "execution": {
     "iopub.execute_input": "2022-04-07T16:29:17.906272Z",
     "iopub.status.busy": "2022-04-07T16:29:17.905114Z",
     "iopub.status.idle": "2022-04-07T16:29:17.926827Z",
     "shell.execute_reply": "2022-04-07T16:29:17.927459Z",
     "shell.execute_reply.started": "2022-04-07T16:13:09.219834Z"
    },
    "papermill": {
     "duration": 0.126884,
     "end_time": "2022-04-07T16:29:17.927683",
     "exception": false,
     "start_time": "2022-04-07T16:29:17.800799",
     "status": "completed"
    },
    "tags": []
   },
   "outputs": [
    {
     "data": {
      "text/plain": [
       "SVC(C=0.5)"
      ]
     },
     "execution_count": 61,
     "metadata": {},
     "output_type": "execute_result"
    }
   ],
   "source": [
    "svc_model=SVC(C= 0.5, gamma='scale')\n",
    "svc_model.fit(X_train,y_train)"
   ]
  },
  {
   "cell_type": "code",
   "execution_count": 62,
   "id": "b0cf6754",
   "metadata": {
    "execution": {
     "iopub.execute_input": "2022-04-07T16:29:18.160843Z",
     "iopub.status.busy": "2022-04-07T16:29:18.160069Z",
     "iopub.status.idle": "2022-04-07T16:29:18.190448Z",
     "shell.execute_reply": "2022-04-07T16:29:18.189812Z",
     "shell.execute_reply.started": "2022-04-07T16:13:17.815319Z"
    },
    "papermill": {
     "duration": 0.150207,
     "end_time": "2022-04-07T16:29:18.190617",
     "exception": false,
     "start_time": "2022-04-07T16:29:18.040410",
     "status": "completed"
    },
    "tags": []
   },
   "outputs": [
    {
     "data": {
      "text/plain": [
       "GradientBoostingClassifier(learning_rate=0.05, max_depth=4, max_features=6,\n",
       "                           n_estimators=20)"
      ]
     },
     "execution_count": 62,
     "metadata": {},
     "output_type": "execute_result"
    }
   ],
   "source": [
    "gbc_model=GradientBoostingClassifier(learning_rate=0.05, max_depth=4, max_features=6, n_estimators=20)\n",
    "gbc_model.fit(X_train,y_train)"
   ]
  },
  {
   "cell_type": "code",
   "execution_count": 63,
   "id": "e0a1bd20",
   "metadata": {
    "execution": {
     "iopub.execute_input": "2022-04-07T16:29:18.381196Z",
     "iopub.status.busy": "2022-04-07T16:29:18.376500Z",
     "iopub.status.idle": "2022-04-07T16:29:18.399938Z",
     "shell.execute_reply": "2022-04-07T16:29:18.400479Z",
     "shell.execute_reply.started": "2022-04-07T16:14:01.867600Z"
    },
    "papermill": {
     "duration": 0.118647,
     "end_time": "2022-04-07T16:29:18.400718",
     "exception": false,
     "start_time": "2022-04-07T16:29:18.282071",
     "status": "completed"
    },
    "tags": []
   },
   "outputs": [
    {
     "name": "stdout",
     "output_type": "stream",
     "text": [
      "******************************SVC******************************\n",
      "              precision    recall  f1-score   support\n",
      "\n",
      "           0       0.79      0.93      0.86        99\n",
      "           1       0.89      0.70      0.78        80\n",
      "\n",
      "    accuracy                           0.83       179\n",
      "   macro avg       0.84      0.81      0.82       179\n",
      "weighted avg       0.84      0.83      0.82       179\n",
      "\n",
      "******************************GRADIENT BOOSTING******************************\n",
      "              precision    recall  f1-score   support\n",
      "\n",
      "           0       0.75      0.99      0.86        99\n",
      "           1       0.98      0.60      0.74        80\n",
      "\n",
      "    accuracy                           0.82       179\n",
      "   macro avg       0.87      0.79      0.80       179\n",
      "weighted avg       0.85      0.82      0.81       179\n",
      "\n"
     ]
    }
   ],
   "source": [
    "print((30*'*')+'SVC'+(30*'*'))\n",
    "report(svc_model)\n",
    "print((30*'*')+'GRADIENT BOOSTING'+(30*'*'))\n",
    "report(gbc_model)"
   ]
  },
  {
   "cell_type": "code",
   "execution_count": 64,
   "id": "3b196304",
   "metadata": {
    "execution": {
     "iopub.execute_input": "2022-04-07T16:29:18.610919Z",
     "iopub.status.busy": "2022-04-07T16:29:18.610205Z",
     "iopub.status.idle": "2022-04-07T16:29:18.948859Z",
     "shell.execute_reply": "2022-04-07T16:29:18.949387Z",
     "shell.execute_reply.started": "2022-04-07T16:14:09.207411Z"
    },
    "papermill": {
     "duration": 0.448206,
     "end_time": "2022-04-07T16:29:18.949605",
     "exception": false,
     "start_time": "2022-04-07T16:29:18.501399",
     "status": "completed"
    },
    "tags": []
   },
   "outputs": [
    {
     "data": {
      "text/plain": [
       "<sklearn.metrics._plot.roc_curve.RocCurveDisplay at 0x7f9e4caa0730>"
      ]
     },
     "execution_count": 64,
     "metadata": {},
     "output_type": "execute_result"
    },
    {
     "data": {
      "image/png": "[encoded data removed]",
      "text/plain": [
       "<Figure size 432x288 with 1 Axes>"
      ]
     },
     "metadata": {},
     "output_type": "display_data"
    }
   ],
   "source": [
    "plot_roc_curve(svc_model, X_test, y_test)"
   ]
  },
  {
   "cell_type": "code",
   "execution_count": 65,
   "id": "898d096a",
   "metadata": {
    "execution": {
     "iopub.execute_input": "2022-04-07T16:29:19.147284Z",
     "iopub.status.busy": "2022-04-07T16:29:19.146522Z",
     "iopub.status.idle": "2022-04-07T16:29:19.433859Z",
     "shell.execute_reply": "2022-04-07T16:29:19.434453Z",
     "shell.execute_reply.started": "2022-04-07T16:14:12.406444Z"
    },
    "papermill": {
     "duration": 0.389884,
     "end_time": "2022-04-07T16:29:19.434668",
     "exception": false,
     "start_time": "2022-04-07T16:29:19.044784",
     "status": "completed"
    },
    "tags": []
   },
   "outputs": [
    {
     "data": {
      "text/plain": [
       "<sklearn.metrics._plot.precision_recall_curve.PrecisionRecallDisplay at 0x7f9e4c9acb80>"
      ]
     },
     "execution_count": 65,
     "metadata": {},
     "output_type": "execute_result"
    },
    {
     "data": {
      "image/png": "[encoded data removed]",
      "text/plain": [
       "<Figure size 432x288 with 1 Axes>"
      ]
     },
     "metadata": {},
     "output_type": "display_data"
    }
   ],
   "source": [
    "plot_precision_recall_curve(svc_model, X_test, y_test)"
   ]
  },
  {
   "cell_type": "code",
   "execution_count": 66,
   "id": "c671b22d",
   "metadata": {
    "execution": {
     "iopub.execute_input": "2022-04-07T16:29:19.647053Z",
     "iopub.status.busy": "2022-04-07T16:29:19.646307Z",
     "iopub.status.idle": "2022-04-07T16:29:19.922198Z",
     "shell.execute_reply": "2022-04-07T16:29:19.922742Z",
     "shell.execute_reply.started": "2022-04-07T16:14:15.659048Z"
    },
    "papermill": {
     "duration": 0.393046,
     "end_time": "2022-04-07T16:29:19.922942",
     "exception": false,
     "start_time": "2022-04-07T16:29:19.529896",
     "status": "completed"
    },
    "tags": []
   },
   "outputs": [
    {
     "data": {
      "text/plain": [
       "<sklearn.metrics._plot.roc_curve.RocCurveDisplay at 0x7f9e4cf75ac0>"
      ]
     },
     "execution_count": 66,
     "metadata": {},
     "output_type": "execute_result"
    },
    {
     "data": {
      "image/png": "[encoded data removed]",
      "text/plain": [
       "<Figure size 432x288 with 1 Axes>"
      ]
     },
     "metadata": {},
     "output_type": "display_data"
    }
   ],
   "source": [
    "plot_roc_curve(gbc_model, X_test, y_test)"
   ]
  },
  {
   "cell_type": "code",
   "execution_count": 67,
   "id": "1abd55b2",
   "metadata": {
    "execution": {
     "iopub.execute_input": "2022-04-07T16:29:20.137074Z",
     "iopub.status.busy": "2022-04-07T16:29:20.136015Z",
     "iopub.status.idle": "2022-04-07T16:29:20.430303Z",
     "shell.execute_reply": "2022-04-07T16:29:20.430848Z",
     "shell.execute_reply.started": "2022-04-07T16:14:20.165441Z"
    },
    "papermill": {
     "duration": 0.412317,
     "end_time": "2022-04-07T16:29:20.431075",
     "exception": false,
     "start_time": "2022-04-07T16:29:20.018758",
     "status": "completed"
    },
    "scrolled": true,
    "tags": []
   },
   "outputs": [
    {
     "data": {
      "text/plain": [
       "<sklearn.metrics._plot.precision_recall_curve.PrecisionRecallDisplay at 0x7f9e4cf75d90>"
      ]
     },
     "execution_count": 67,
     "metadata": {},
     "output_type": "execute_result"
    },
    {
     "data": {
      "image/png": "[encoded data removed]",
      "text/plain": [
       "<Figure size 432x288 with 1 Axes>"
      ]
     },
     "metadata": {},
     "output_type": "display_data"
    }
   ],
   "source": [
    "plot_precision_recall_curve(gbc_model, X_test, y_test)"
   ]
  },
  {
   "cell_type": "markdown",
   "id": "75515f55",
   "metadata": {},
   "source": [
    "#### Gradient boosting shows the highest AUC and AP. Sure, let's go with that for this round."
   ]
  },
  {
   "cell_type": "code",
   "execution_count": null,
   "id": "433310c2",
   "metadata": {
    "execution": {
     "iopub.execute_input": "2022-04-07T16:29:20.635434Z",
     "iopub.status.busy": "2022-04-07T16:29:20.634232Z",
     "iopub.status.idle": "2022-04-07T16:29:20.666246Z",
     "shell.execute_reply": "2022-04-07T16:29:20.665704Z",
     "shell.execute_reply.started": "2022-04-07T16:14:27.440025Z"
    },
    "papermill": {
     "duration": 0.137404,
     "end_time": "2022-04-07T16:29:20.666421",
     "exception": false,
     "start_time": "2022-04-07T16:29:20.529017",
     "status": "completed"
    },
    "tags": []
   },
   "outputs": [],
   "source": [
    "gbc_model.fit(X,y)"
   ]
  },
  {
   "cell_type": "code",
   "execution_count": null,
   "id": "f249e022",
   "metadata": {
    "execution": {
     "iopub.execute_input": "2022-04-07T16:29:20.874166Z",
     "iopub.status.busy": "2022-04-07T16:29:20.867501Z",
     "iopub.status.idle": "2022-04-07T16:29:20.884050Z",
     "shell.execute_reply": "2022-04-07T16:29:20.884634Z",
     "shell.execute_reply.started": "2022-04-07T16:14:32.785522Z"
    },
    "papermill": {
     "duration": 0.118568,
     "end_time": "2022-04-07T16:29:20.884853",
     "exception": false,
     "start_time": "2022-04-07T16:29:20.766285",
     "status": "completed"
    },
    "tags": []
   },
   "outputs": [],
   "source": [
    "final_preds=gbc_model.predict(test)\n",
    "submission = pd.concat([test_ids,pd.Series(final_preds,name=\"Survived\")],axis=1)\n",
    "submission.to_csv(\"./submission.csv\",index=False,header=True)"
   ]
  },
  {
   "cell_type": "markdown",
   "id": "00818c48",
   "metadata": {},
   "source": [
    "### Huzzah!"
   ]
  }
 ],
 "metadata": {
  "kernelspec": {
   "display_name": "Python 3 (ipykernel)",
   "language": "python",
   "name": "python3"
  },
  "language_info": {
   "codemirror_mode": {
    "name": "ipython",
    "version": 3
   },
   "file_extension": ".py",
   "mimetype": "text/x-python",
   "name": "python",
   "nbconvert_exporter": "python",
   "pygments_lexer": "ipython3",
   "version": "3.9.7"
  },
  "papermill": {
   "default_parameters": {},
   "duration": 826.457086,
   "end_time": "2022-04-07T16:29:22.001228",
   "environment_variables": {},
   "exception": null,
   "input_path": "__notebook__.ipynb",
   "output_path": "__notebook__.ipynb",
   "parameters": {},
   "start_time": "2022-04-07T16:15:35.544142",
   "version": "2.3.3"
  }
 },
 "nbformat": 4,
 "nbformat_minor": 5
}
