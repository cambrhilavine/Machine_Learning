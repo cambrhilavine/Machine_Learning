{
 "cells": [
  {
   "cell_type": "markdown",
   "id": "f50445d6",
   "metadata": {},
   "source": [
    "## Titanic Challenge: Simple NN\n",
    "### This is the same workflow as the previous attempts, now playing around with a simple neural network in Keras\n",
    "#### This model achieved a score of 0.78 on the test set"
   ]
  },
  {
   "cell_type": "code",
   "execution_count": 1,
   "id": "8e115dbb",
   "metadata": {
    "_cell_guid": "b1076dfc-b9ad-4769-8c92-a6c4dae69d19",
    "_uuid": "8f2839f25d086af736a60e9eeb907d3b93b6e0e5",
    "execution": {
     "iopub.execute_input": "2022-04-07T17:14:48.871210Z",
     "iopub.status.busy": "2022-04-07T17:14:48.870592Z",
     "iopub.status.idle": "2022-04-07T17:14:49.813368Z",
     "shell.execute_reply": "2022-04-07T17:14:49.813851Z",
     "shell.execute_reply.started": "2022-04-07T17:06:26.039948Z"
    },
    "papermill": {
     "duration": 0.968035,
     "end_time": "2022-04-07T17:14:49.814019",
     "exception": false,
     "start_time": "2022-04-07T17:14:48.845984",
     "status": "completed"
    },
    "tags": []
   },
   "outputs": [],
   "source": [
    "import numpy as np \n",
    "import pandas as pd\n",
    "import warnings\n",
    "warnings.filterwarnings(\"ignore\")\n",
    "\n",
    "import seaborn as sns\n",
    "import matplotlib.pyplot as plt\n",
    "palette=sns.color_palette('magma')\n",
    "sns.set(palette=palette)"
   ]
  },
  {
   "cell_type": "markdown",
   "id": "c698a697",
   "metadata": {},
   "source": [
    "### Import, Feature Engineering, Cleanup"
   ]
  },
  {
   "cell_type": "code",
   "execution_count": 2,
   "id": "0b0b8d3b",
   "metadata": {
    "execution": {
     "iopub.execute_input": "2022-04-07T17:14:49.864772Z",
     "iopub.status.busy": "2022-04-07T17:14:49.864100Z",
     "iopub.status.idle": "2022-04-07T17:14:49.885584Z",
     "shell.execute_reply": "2022-04-07T17:14:49.886063Z",
     "shell.execute_reply.started": "2022-04-07T17:06:27.296006Z"
    },
    "papermill": {
     "duration": 0.04884,
     "end_time": "2022-04-07T17:14:49.886238",
     "exception": false,
     "start_time": "2022-04-07T17:14:49.837398",
     "status": "completed"
    },
    "tags": []
   },
   "outputs": [],
   "source": [
    "##Import the data\n",
    "train = pd.read_csv('/Users/r126l688/Desktop/Professional Development/Kaggle/Titanic/titanic/train.csv')\n",
    "test = pd.read_csv('/Users/r126l688/Desktop/Professional Development/Kaggle/Titanic/titanic/test.csv')"
   ]
  },
  {
   "cell_type": "markdown",
   "id": "1d7e7251",
   "metadata": {},
   "source": [
    "### Plan of action for cleaning and feature engineering:\n",
    "1. Drop properties that aren't useful (Ticket) or lack too much data (Cabin)\n",
    "2. Fill in missing values\n",
    "3. Extract useful data from existing properties (Title from Name)\n",
    "4. Dicretize continuous variables (Age and Fare)\n",
    "5. Map integers onto non-int data\n",
    "6. Drop redundant properties"
   ]
  },
  {
   "cell_type": "markdown",
   "id": "40f087aa",
   "metadata": {},
   "source": [
    "#### 1. Drop properties that aren't useful (Ticket) or lack too much data (Cabin)"
   ]
  },
  {
   "cell_type": "code",
   "execution_count": 3,
   "id": "7b2f1e6e",
   "metadata": {
    "execution": {
     "iopub.execute_input": "2022-04-07T17:14:49.993234Z",
     "iopub.status.busy": "2022-04-07T17:14:49.992538Z",
     "iopub.status.idle": "2022-04-07T17:14:50.001953Z",
     "shell.execute_reply": "2022-04-07T17:14:50.001351Z",
     "shell.execute_reply.started": "2022-04-07T17:06:49.508626Z"
    },
    "papermill": {
     "duration": 0.040826,
     "end_time": "2022-04-07T17:14:50.002088",
     "exception": false,
     "start_time": "2022-04-07T17:14:49.961262",
     "status": "completed"
    },
    "tags": []
   },
   "outputs": [],
   "source": [
    "train = train.drop(['Ticket', 'Cabin'], axis=1)\n",
    "test = test.drop(['Ticket', 'Cabin'], axis=1)"
   ]
  },
  {
   "cell_type": "markdown",
   "id": "2b0013b5",
   "metadata": {},
   "source": [
    "#### 2. Fill in missing values"
   ]
  },
  {
   "cell_type": "code",
   "execution_count": 4,
   "id": "34826337",
   "metadata": {
    "execution": {
     "iopub.execute_input": "2022-04-07T17:14:50.050272Z",
     "iopub.status.busy": "2022-04-07T17:14:50.049693Z",
     "iopub.status.idle": "2022-04-07T17:14:50.301611Z",
     "shell.execute_reply": "2022-04-07T17:14:50.300918Z",
     "shell.execute_reply.started": "2022-04-07T17:06:53.362966Z"
    },
    "papermill": {
     "duration": 0.27654,
     "end_time": "2022-04-07T17:14:50.301754",
     "exception": false,
     "start_time": "2022-04-07T17:14:50.025214",
     "status": "completed"
    },
    "tags": []
   },
   "outputs": [],
   "source": [
    "#Function to fill in continuous values via ML. In this case, I've used SVM here for funsies\n",
    "from sklearn.svm import SVR, SVC, LinearSVC #Calling them all because I'll use them later\n",
    "def svm_num(df,na_col): #pass in the dataset and either Age or Fare\n",
    "    df=df.copy()\n",
    "    \n",
    "    num_df = df.select_dtypes(np.number) \n",
    "    val_cols = num_df.loc[:,num_df.isna().sum() == 0].columns\n",
    "    \n",
    "    y_train = num_df.loc[num_df[na_col].isna()==False,na_col] \n",
    "    X_train = num_df.loc[num_df[na_col].isna()==False,val_cols]\n",
    "    X_test = num_df.loc[num_df[na_col].isna()==True,val_cols]\n",
    "    \n",
    "    svr = SVR()\n",
    "    svr.fit(X_train,y_train)\n",
    "    \n",
    "    y_pred = svr.predict(X_test)\n",
    "    \n",
    "    df.loc[df[na_col].isna()==True,na_col] = y_pred\n",
    "    \n",
    "    return df"
   ]
  },
  {
   "cell_type": "code",
   "execution_count": 5,
   "id": "5ccffc86",
   "metadata": {
    "execution": {
     "iopub.execute_input": "2022-04-07T17:14:50.355350Z",
     "iopub.status.busy": "2022-04-07T17:14:50.352093Z",
     "iopub.status.idle": "2022-04-07T17:14:50.413109Z",
     "shell.execute_reply": "2022-04-07T17:14:50.412500Z",
     "shell.execute_reply.started": "2022-04-07T17:06:55.312621Z"
    },
    "papermill": {
     "duration": 0.088655,
     "end_time": "2022-04-07T17:14:50.413273",
     "exception": false,
     "start_time": "2022-04-07T17:14:50.324618",
     "status": "completed"
    },
    "tags": []
   },
   "outputs": [],
   "source": [
    "train=svm_num(train,'Age') #Use function to fill in age data in the train set"
   ]
  },
  {
   "cell_type": "code",
   "execution_count": 6,
   "id": "ec679432",
   "metadata": {
    "execution": {
     "iopub.execute_input": "2022-04-07T17:14:50.488589Z",
     "iopub.status.busy": "2022-04-07T17:14:50.487923Z",
     "iopub.status.idle": "2022-04-07T17:14:50.499874Z",
     "shell.execute_reply": "2022-04-07T17:14:50.500362Z",
     "shell.execute_reply.started": "2022-04-07T17:06:56.937089Z"
    },
    "papermill": {
     "duration": 0.055693,
     "end_time": "2022-04-07T17:14:50.500546",
     "exception": false,
     "start_time": "2022-04-07T17:14:50.444853",
     "status": "completed"
    },
    "tags": []
   },
   "outputs": [],
   "source": [
    "test=svm_num(test,'Age') #...and the test set"
   ]
  },
  {
   "cell_type": "code",
   "execution_count": 7,
   "id": "b68ab58a",
   "metadata": {
    "execution": {
     "iopub.execute_input": "2022-04-07T17:14:50.549342Z",
     "iopub.status.busy": "2022-04-07T17:14:50.548439Z",
     "iopub.status.idle": "2022-04-07T17:14:50.571116Z",
     "shell.execute_reply": "2022-04-07T17:14:50.571656Z",
     "shell.execute_reply.started": "2022-04-07T17:07:22.837843Z"
    },
    "papermill": {
     "duration": 0.048314,
     "end_time": "2022-04-07T17:14:50.571827",
     "exception": false,
     "start_time": "2022-04-07T17:14:50.523513",
     "status": "completed"
    },
    "tags": []
   },
   "outputs": [],
   "source": [
    "test=svm_num(test,'Fare') #And the missing fare value in the test set"
   ]
  },
  {
   "cell_type": "code",
   "execution_count": 8,
   "id": "788a3939",
   "metadata": {
    "execution": {
     "iopub.execute_input": "2022-04-07T17:14:50.622393Z",
     "iopub.status.busy": "2022-04-07T17:14:50.621412Z",
     "iopub.status.idle": "2022-04-07T17:14:50.627150Z",
     "shell.execute_reply": "2022-04-07T17:14:50.627713Z",
     "shell.execute_reply.started": "2022-04-07T17:07:25.033867Z"
    },
    "papermill": {
     "duration": 0.032578,
     "end_time": "2022-04-07T17:14:50.627882",
     "exception": false,
     "start_time": "2022-04-07T17:14:50.595304",
     "status": "completed"
    },
    "tags": []
   },
   "outputs": [],
   "source": [
    "#There are still two missing values for the port of embarcation in the training set. Let's just fill them in with the mode.\n",
    "port = train.Embarked.dropna().mode()[0]\n",
    "train['Embarked'] = train['Embarked'].fillna(port)"
   ]
  },
  {
   "cell_type": "markdown",
   "id": "9d99a10c",
   "metadata": {},
   "source": [
    "#### 3. Extract useful data from existing properties (Title from Name)"
   ]
  },
  {
   "cell_type": "code",
   "execution_count": 9,
   "id": "691f7dcc",
   "metadata": {
    "execution": {
     "iopub.execute_input": "2022-04-07T17:14:50.683283Z",
     "iopub.status.busy": "2022-04-07T17:14:50.682310Z",
     "iopub.status.idle": "2022-04-07T17:14:50.684921Z",
     "shell.execute_reply": "2022-04-07T17:14:50.684299Z",
     "shell.execute_reply.started": "2022-04-07T17:07:27.975855Z"
    },
    "papermill": {
     "duration": 0.034355,
     "end_time": "2022-04-07T17:14:50.685056",
     "exception": false,
     "start_time": "2022-04-07T17:14:50.650701",
     "status": "completed"
    },
    "tags": []
   },
   "outputs": [],
   "source": [
    "all_data=[train,test]\n",
    "for dataset in all_data:\n",
    "    dataset['Title'] = dataset.Name.str.extract(' ([A-Za-z]+)\\.')"
   ]
  },
  {
   "cell_type": "code",
   "execution_count": 10,
   "id": "4a81c71c",
   "metadata": {
    "execution": {
     "iopub.execute_input": "2022-04-07T17:14:50.742350Z",
     "iopub.status.busy": "2022-04-07T17:14:50.741403Z",
     "iopub.status.idle": "2022-04-07T17:14:50.743833Z",
     "shell.execute_reply": "2022-04-07T17:14:50.743353Z",
     "shell.execute_reply.started": "2022-04-07T17:07:29.713800Z"
    },
    "papermill": {
     "duration": 0.036111,
     "end_time": "2022-04-07T17:14:50.743984",
     "exception": false,
     "start_time": "2022-04-07T17:14:50.707873",
     "status": "completed"
    },
    "tags": []
   },
   "outputs": [],
   "source": [
    "for dataset in all_data:\n",
    "    dataset['Title'] = dataset['Title'].replace(['Lady', 'Countess','Capt', 'Col','Don', 'Dr', 'Major', 'Rev', 'Sir', 'Jonkheer', 'Dona'], 'Other')\n",
    "    dataset['Title'] = dataset['Title'].replace('Mlle', 'Miss')\n",
    "    dataset['Title'] = dataset['Title'].replace('Ms', 'Miss')\n",
    "    dataset['Title'] = dataset['Title'].replace('Mme', 'Mrs')"
   ]
  },
  {
   "cell_type": "markdown",
   "id": "7d56b765",
   "metadata": {},
   "source": [
    "#### 4. Discretize continuous variables (Age and Fare)"
   ]
  },
  {
   "cell_type": "code",
   "execution_count": 11,
   "id": "30a396d2",
   "metadata": {
    "execution": {
     "iopub.execute_input": "2022-04-07T17:14:50.804099Z",
     "iopub.status.busy": "2022-04-07T17:14:50.803423Z",
     "iopub.status.idle": "2022-04-07T17:14:50.806640Z",
     "shell.execute_reply": "2022-04-07T17:14:50.806062Z",
     "shell.execute_reply.started": "2022-04-07T17:07:37.354250Z"
    },
    "papermill": {
     "duration": 0.04051,
     "end_time": "2022-04-07T17:14:50.806776",
     "exception": false,
     "start_time": "2022-04-07T17:14:50.766266",
     "status": "completed"
    },
    "tags": []
   },
   "outputs": [],
   "source": [
    "#Separate age into categories\n",
    "all_data=[train,test]\n",
    "for dataset in all_data:    \n",
    "    dataset.loc[ dataset['Age'] <= 12, 'Age'] = 0 #Child\n",
    "    dataset.loc[(dataset['Age'] > 12) & (dataset['Age'] <= 19), 'Age'] = 1 #Teenager\n",
    "    dataset.loc[(dataset['Age'] > 19) & (dataset['Age'] <= 30), 'Age'] = 2 #Young adult\n",
    "    dataset.loc[(dataset['Age'] > 30) & (dataset['Age'] <= 50), 'Age'] = 3 #Adult\n",
    "    dataset.loc[(dataset['Age'] > 50), 'Age'] = 4 #Older adult\n",
    "    dataset['Age']=dataset['Age'].astype(int)"
   ]
  },
  {
   "cell_type": "code",
   "execution_count": 12,
   "id": "01c5f3be",
   "metadata": {
    "execution": {
     "iopub.execute_input": "2022-04-07T17:14:50.865182Z",
     "iopub.status.busy": "2022-04-07T17:14:50.864479Z",
     "iopub.status.idle": "2022-04-07T17:14:50.866806Z",
     "shell.execute_reply": "2022-04-07T17:14:50.866040Z",
     "shell.execute_reply.started": "2022-04-07T17:11:47.715849Z"
    },
    "papermill": {
     "duration": 0.037946,
     "end_time": "2022-04-07T17:14:50.866953",
     "exception": false,
     "start_time": "2022-04-07T17:14:50.829007",
     "status": "completed"
    },
    "tags": []
   },
   "outputs": [],
   "source": [
    "#As with age, let's split the continous fare data into discrete categories\n",
    "all_data=[train,test]\n",
    "for dataset in all_data:    \n",
    "    dataset.loc[ dataset['Fare'] <= 10, 'Fare'] = 0 #Low\n",
    "    dataset.loc[(dataset['Fare'] > 10) & (dataset['Fare'] <= 25), 'Fare'] = 1 #Middle\n",
    "    dataset.loc[(dataset['Fare'] > 25) & (dataset['Fare'] <= 80), 'Fare'] = 2 #High\n",
    "    dataset.loc[(dataset['Fare'] > 80), 'Fare'] = 3 #Super high\n",
    "    dataset['Fare']=dataset['Fare'].astype(int)"
   ]
  },
  {
   "cell_type": "markdown",
   "id": "649b7457",
   "metadata": {},
   "source": [
    "#### 5. Map integers onto non-int data. So that means Sex, Embarked, and Title."
   ]
  },
  {
   "cell_type": "code",
   "execution_count": 13,
   "id": "2fca7b60",
   "metadata": {
    "execution": {
     "iopub.execute_input": "2022-04-07T17:14:50.914729Z",
     "iopub.status.busy": "2022-04-07T17:14:50.914139Z",
     "iopub.status.idle": "2022-04-07T17:14:50.920018Z",
     "shell.execute_reply": "2022-04-07T17:14:50.920463Z",
     "shell.execute_reply.started": "2022-04-07T17:11:50.740538Z"
    },
    "papermill": {
     "duration": 0.031035,
     "end_time": "2022-04-07T17:14:50.920642",
     "exception": false,
     "start_time": "2022-04-07T17:14:50.889607",
     "status": "completed"
    },
    "tags": []
   },
   "outputs": [],
   "source": [
    "#Start with the Sex column\n",
    "all_data=[train,test]\n",
    "for dataset in all_data: \n",
    "    dataset['Sex'] = dataset['Sex'].map({'female': 1, 'male': 0}).astype(int)"
   ]
  },
  {
   "cell_type": "code",
   "execution_count": 14,
   "id": "4aed132d",
   "metadata": {
    "execution": {
     "iopub.execute_input": "2022-04-07T17:14:50.968393Z",
     "iopub.status.busy": "2022-04-07T17:14:50.967778Z",
     "iopub.status.idle": "2022-04-07T17:14:50.973858Z",
     "shell.execute_reply": "2022-04-07T17:14:50.974313Z",
     "shell.execute_reply.started": "2022-04-07T17:11:53.735682Z"
    },
    "papermill": {
     "duration": 0.031584,
     "end_time": "2022-04-07T17:14:50.974475",
     "exception": false,
     "start_time": "2022-04-07T17:14:50.942891",
     "status": "completed"
    },
    "tags": []
   },
   "outputs": [],
   "source": [
    "#Then Embarked...\n",
    "all_data=[train,test]\n",
    "for dataset in all_data:\n",
    "    dataset['Embarked'] = dataset['Embarked'].map({'S': 0, 'C': 1, 'Q': 2}).astype(int)"
   ]
  },
  {
   "cell_type": "code",
   "execution_count": 15,
   "id": "9e5a8704",
   "metadata": {
    "execution": {
     "iopub.execute_input": "2022-04-07T17:14:51.022188Z",
     "iopub.status.busy": "2022-04-07T17:14:51.021587Z",
     "iopub.status.idle": "2022-04-07T17:14:51.028406Z",
     "shell.execute_reply": "2022-04-07T17:14:51.028915Z",
     "shell.execute_reply.started": "2022-04-07T17:11:56.901588Z"
    },
    "papermill": {
     "duration": 0.03211,
     "end_time": "2022-04-07T17:14:51.029087",
     "exception": false,
     "start_time": "2022-04-07T17:14:50.996977",
     "status": "completed"
    },
    "tags": []
   },
   "outputs": [],
   "source": [
    "#And finally for Title, filling in those without a title with \"0\"\n",
    "all_data=[train,test]\n",
    "for dataset in all_data:\n",
    "    dataset['Title'] = dataset['Title'].map({\"Mr\": 1, \"Miss\": 2, \"Mrs\": 3, \"Master\": 4, \"Other\": 5}).astype(int)\n",
    "    dataset['Title'] = dataset['Title'].fillna(0)"
   ]
  },
  {
   "cell_type": "markdown",
   "id": "7c84b3ca",
   "metadata": {},
   "source": [
    "#### 6. Drop redundant properties. We don't need PassengerID or Name in the datasets anymore."
   ]
  },
  {
   "cell_type": "code",
   "execution_count": 16,
   "id": "14b4db9a",
   "metadata": {
    "execution": {
     "iopub.execute_input": "2022-04-07T17:14:51.076509Z",
     "iopub.status.busy": "2022-04-07T17:14:51.075944Z",
     "iopub.status.idle": "2022-04-07T17:14:51.079240Z",
     "shell.execute_reply": "2022-04-07T17:14:51.079786Z",
     "shell.execute_reply.started": "2022-04-07T17:12:11.136193Z"
    },
    "papermill": {
     "duration": 0.028562,
     "end_time": "2022-04-07T17:14:51.079941",
     "exception": false,
     "start_time": "2022-04-07T17:14:51.051379",
     "status": "completed"
    },
    "tags": []
   },
   "outputs": [],
   "source": [
    "#However, be sure to stick the test set's PassengerIDs elsewhere to tack it onto the submission file!\n",
    "test_ids=test['PassengerId']"
   ]
  },
  {
   "cell_type": "code",
   "execution_count": 17,
   "id": "690c07c9",
   "metadata": {
    "execution": {
     "iopub.execute_input": "2022-04-07T17:14:51.130103Z",
     "iopub.status.busy": "2022-04-07T17:14:51.127753Z",
     "iopub.status.idle": "2022-04-07T17:14:51.133439Z",
     "shell.execute_reply": "2022-04-07T17:14:51.134006Z",
     "shell.execute_reply.started": "2022-04-07T17:12:15.933877Z"
    },
    "papermill": {
     "duration": 0.031543,
     "end_time": "2022-04-07T17:14:51.134174",
     "exception": false,
     "start_time": "2022-04-07T17:14:51.102631",
     "status": "completed"
    },
    "tags": []
   },
   "outputs": [],
   "source": [
    "train = train.drop(['Name','PassengerId'], axis=1)\n",
    "test = test.drop(['Name','PassengerId'], axis=1)"
   ]
  },
  {
   "cell_type": "markdown",
   "id": "bc1bcd11",
   "metadata": {},
   "source": [
    "### ML and Model Evaluation"
   ]
  },
  {
   "cell_type": "code",
   "execution_count": 18,
   "id": "36f8b2be",
   "metadata": {
    "execution": {
     "iopub.execute_input": "2022-04-07T17:14:51.197605Z",
     "iopub.status.busy": "2022-04-07T17:14:51.196948Z",
     "iopub.status.idle": "2022-04-07T17:14:51.203140Z",
     "shell.execute_reply": "2022-04-07T17:14:51.203703Z",
     "shell.execute_reply.started": "2022-04-07T17:12:21.955799Z"
    },
    "papermill": {
     "duration": 0.037736,
     "end_time": "2022-04-07T17:14:51.203889",
     "exception": false,
     "start_time": "2022-04-07T17:14:51.166153",
     "status": "completed"
    },
    "tags": []
   },
   "outputs": [],
   "source": [
    "from sklearn.model_selection import train_test_split\n",
    "X=train.drop('Survived', axis=1)\n",
    "y=train['Survived']"
   ]
  },
  {
   "cell_type": "code",
   "execution_count": 19,
   "id": "1aa964cd",
   "metadata": {
    "execution": {
     "iopub.execute_input": "2022-04-07T17:14:51.269981Z",
     "iopub.status.busy": "2022-04-07T17:14:51.269188Z",
     "iopub.status.idle": "2022-04-07T17:14:51.276098Z",
     "shell.execute_reply": "2022-04-07T17:14:51.276728Z",
     "shell.execute_reply.started": "2022-04-07T17:12:24.737830Z"
    },
    "papermill": {
     "duration": 0.042162,
     "end_time": "2022-04-07T17:14:51.276906",
     "exception": false,
     "start_time": "2022-04-07T17:14:51.234744",
     "status": "completed"
    },
    "tags": []
   },
   "outputs": [],
   "source": [
    "#Split into test/training sets for the purpose of initial evaluation\n",
    "X_train, X_test, y_train, y_test = train_test_split(X, y, test_size=0.2, random_state=101)"
   ]
  },
  {
   "cell_type": "code",
   "execution_count": 20,
   "id": "e6a7d4c5",
   "metadata": {},
   "outputs": [],
   "source": [
    "import tensorflow as tf\n",
    "from tensorflow.keras.models import Sequential\n",
    "from tensorflow.keras.layers import Dense, Activation,Dropout\n",
    "from tensorflow.keras.callbacks import EarlyStopping"
   ]
  },
  {
   "cell_type": "markdown",
   "id": "0820d9ee",
   "metadata": {},
   "source": [
    "#### Let's see how many nodes we should add\n",
    "#### See https://stats.stackexchange.com/questions/181/how-to-choose-the-number-of-hidden-layers-and-nodes-in-a-feedforward-neural-netw"
   ]
  },
  {
   "cell_type": "code",
   "execution_count": 21,
   "id": "a29c58d1",
   "metadata": {
    "scrolled": true
   },
   "outputs": [
    {
     "data": {
      "text/plain": [
       "(712, 8)"
      ]
     },
     "execution_count": 21,
     "metadata": {},
     "output_type": "execute_result"
    }
   ],
   "source": [
    "X_train.shape"
   ]
  },
  {
   "cell_type": "markdown",
   "id": "55bdde77",
   "metadata": {},
   "source": [
    "#### Just going to add one input layer and one output layer---keeping it simple.\n",
    "#### because it's a binary classification problem, the activation function in the output layer needs to be 'sigmoid' and loss is 'binary_crossentropy'"
   ]
  },
  {
   "cell_type": "code",
   "execution_count": 22,
   "id": "bcc312e1",
   "metadata": {},
   "outputs": [
    {
     "name": "stderr",
     "output_type": "stream",
     "text": [
      "2022-04-19 13:42:40.471874: I tensorflow/core/platform/cpu_feature_guard.cc:151] This TensorFlow binary is optimized with oneAPI Deep Neural Network Library (oneDNN) to use the following CPU instructions in performance-critical operations:  AVX2 FMA\n",
      "To enable them in other operations, rebuild TensorFlow with the appropriate compiler flags.\n"
     ]
    }
   ],
   "source": [
    "model = Sequential()\n",
    "model.add(Dense(units=8,activation='relu'))\n",
    "model.add(Dropout(0.5))\n",
    "\n",
    "model.add(Dense(units=1,activation='sigmoid'))\n",
    "model.compile(loss='binary_crossentropy', optimizer='adam')"
   ]
  },
  {
   "cell_type": "markdown",
   "id": "250d0aaf",
   "metadata": {},
   "source": [
    "#### define an early stop to monitor loss and put a kibosh on running through too many epochs..."
   ]
  },
  {
   "cell_type": "code",
   "execution_count": 23,
   "id": "80fad1f9",
   "metadata": {},
   "outputs": [],
   "source": [
    "early_stop = EarlyStopping(monitor='val_loss', mode='min', verbose=1, patience=25)"
   ]
  },
  {
   "cell_type": "markdown",
   "id": "ad595069",
   "metadata": {},
   "source": [
    "#### ...so I can set an obscene number of epochs and not worry about overfitting"
   ]
  },
  {
   "cell_type": "code",
   "execution_count": 24,
   "id": "a2ad7aaf",
   "metadata": {},
   "outputs": [
    {
     "name": "stdout",
     "output_type": "stream",
     "text": [
      "Epoch 1/500\n",
      "23/23 [==============================] - 0s 6ms/step - loss: 0.8895 - val_loss: 0.7483\n",
      "Epoch 2/500\n",
      "23/23 [==============================] - 0s 2ms/step - loss: 0.8821 - val_loss: 0.7277\n",
      "Epoch 3/500\n",
      "23/23 [==============================] - 0s 2ms/step - loss: 0.8438 - val_loss: 0.7094\n",
      "Epoch 4/500\n",
      "23/23 [==============================] - 0s 2ms/step - loss: 0.7883 - val_loss: 0.6945\n",
      "Epoch 5/500\n",
      "23/23 [==============================] - 0s 2ms/step - loss: 0.7663 - val_loss: 0.6803\n",
      "Epoch 6/500\n",
      "23/23 [==============================] - 0s 2ms/step - loss: 0.7079 - val_loss: 0.6661\n",
      "Epoch 7/500\n",
      "23/23 [==============================] - 0s 2ms/step - loss: 0.6866 - val_loss: 0.6519\n",
      "Epoch 8/500\n",
      "23/23 [==============================] - 0s 2ms/step - loss: 0.6698 - val_loss: 0.6372\n",
      "Epoch 9/500\n",
      "23/23 [==============================] - 0s 2ms/step - loss: 0.6586 - val_loss: 0.6243\n",
      "Epoch 10/500\n",
      "23/23 [==============================] - 0s 2ms/step - loss: 0.6389 - val_loss: 0.6161\n",
      "Epoch 11/500\n",
      "23/23 [==============================] - 0s 2ms/step - loss: 0.6255 - val_loss: 0.6065\n",
      "Epoch 12/500\n",
      "23/23 [==============================] - 0s 2ms/step - loss: 0.6110 - val_loss: 0.5976\n",
      "Epoch 13/500\n",
      "23/23 [==============================] - 0s 2ms/step - loss: 0.6042 - val_loss: 0.5880\n",
      "Epoch 14/500\n",
      "23/23 [==============================] - 0s 2ms/step - loss: 0.5875 - val_loss: 0.5769\n",
      "Epoch 15/500\n",
      "23/23 [==============================] - 0s 2ms/step - loss: 0.5972 - val_loss: 0.5728\n",
      "Epoch 16/500\n",
      "23/23 [==============================] - 0s 2ms/step - loss: 0.5795 - val_loss: 0.5626\n",
      "Epoch 17/500\n",
      "23/23 [==============================] - 0s 2ms/step - loss: 0.5560 - val_loss: 0.5568\n",
      "Epoch 18/500\n",
      "23/23 [==============================] - 0s 2ms/step - loss: 0.5757 - val_loss: 0.5446\n",
      "Epoch 19/500\n",
      "23/23 [==============================] - 0s 2ms/step - loss: 0.5705 - val_loss: 0.5366\n",
      "Epoch 20/500\n",
      "23/23 [==============================] - 0s 6ms/step - loss: 0.5658 - val_loss: 0.5324\n",
      "Epoch 21/500\n",
      "23/23 [==============================] - 0s 2ms/step - loss: 0.5764 - val_loss: 0.5252\n",
      "Epoch 22/500\n",
      "23/23 [==============================] - 0s 2ms/step - loss: 0.5517 - val_loss: 0.5192\n",
      "Epoch 23/500\n",
      "23/23 [==============================] - 0s 2ms/step - loss: 0.5899 - val_loss: 0.5221\n",
      "Epoch 24/500\n",
      "23/23 [==============================] - 0s 2ms/step - loss: 0.5524 - val_loss: 0.5190\n",
      "Epoch 25/500\n",
      "23/23 [==============================] - 0s 2ms/step - loss: 0.5381 - val_loss: 0.5159\n",
      "Epoch 26/500\n",
      "23/23 [==============================] - 0s 2ms/step - loss: 0.5369 - val_loss: 0.5089\n",
      "Epoch 27/500\n",
      "23/23 [==============================] - 0s 2ms/step - loss: 0.5527 - val_loss: 0.5061\n",
      "Epoch 28/500\n",
      "23/23 [==============================] - 0s 2ms/step - loss: 0.5397 - val_loss: 0.5002\n",
      "Epoch 29/500\n",
      "23/23 [==============================] - 0s 2ms/step - loss: 0.5583 - val_loss: 0.5004\n",
      "Epoch 30/500\n",
      "23/23 [==============================] - 0s 2ms/step - loss: 0.5413 - val_loss: 0.5017\n",
      "Epoch 31/500\n",
      "23/23 [==============================] - 0s 2ms/step - loss: 0.5503 - val_loss: 0.4979\n",
      "Epoch 32/500\n",
      "23/23 [==============================] - 0s 2ms/step - loss: 0.5457 - val_loss: 0.4985\n",
      "Epoch 33/500\n",
      "23/23 [==============================] - 0s 2ms/step - loss: 0.5171 - val_loss: 0.4977\n",
      "Epoch 34/500\n",
      "23/23 [==============================] - 0s 2ms/step - loss: 0.5204 - val_loss: 0.4933\n",
      "Epoch 35/500\n",
      "23/23 [==============================] - 0s 2ms/step - loss: 0.5300 - val_loss: 0.4904\n",
      "Epoch 36/500\n",
      "23/23 [==============================] - 0s 2ms/step - loss: 0.5371 - val_loss: 0.4903\n",
      "Epoch 37/500\n",
      "23/23 [==============================] - 0s 2ms/step - loss: 0.5456 - val_loss: 0.4911\n",
      "Epoch 38/500\n",
      "23/23 [==============================] - 0s 2ms/step - loss: 0.5124 - val_loss: 0.4900\n",
      "Epoch 39/500\n",
      "23/23 [==============================] - 0s 2ms/step - loss: 0.5172 - val_loss: 0.4911\n",
      "Epoch 40/500\n",
      "23/23 [==============================] - 0s 2ms/step - loss: 0.5367 - val_loss: 0.4943\n",
      "Epoch 41/500\n",
      "23/23 [==============================] - 0s 2ms/step - loss: 0.5275 - val_loss: 0.4877\n",
      "Epoch 42/500\n",
      "23/23 [==============================] - 0s 2ms/step - loss: 0.5123 - val_loss: 0.4831\n",
      "Epoch 43/500\n",
      "23/23 [==============================] - 0s 2ms/step - loss: 0.5375 - val_loss: 0.4835\n",
      "Epoch 44/500\n",
      "23/23 [==============================] - 0s 2ms/step - loss: 0.5153 - val_loss: 0.4812\n",
      "Epoch 45/500\n",
      "23/23 [==============================] - 0s 2ms/step - loss: 0.5287 - val_loss: 0.4794\n",
      "Epoch 46/500\n",
      "23/23 [==============================] - 0s 2ms/step - loss: 0.5181 - val_loss: 0.4804\n",
      "Epoch 47/500\n",
      "23/23 [==============================] - 0s 2ms/step - loss: 0.5108 - val_loss: 0.4760\n",
      "Epoch 48/500\n",
      "23/23 [==============================] - 0s 2ms/step - loss: 0.5069 - val_loss: 0.4743\n",
      "Epoch 49/500\n",
      "23/23 [==============================] - 0s 2ms/step - loss: 0.5094 - val_loss: 0.4797\n",
      "Epoch 50/500\n",
      "23/23 [==============================] - 0s 2ms/step - loss: 0.5196 - val_loss: 0.4797\n",
      "Epoch 51/500\n",
      "23/23 [==============================] - 0s 2ms/step - loss: 0.5221 - val_loss: 0.4790\n",
      "Epoch 52/500\n",
      "23/23 [==============================] - 0s 2ms/step - loss: 0.5048 - val_loss: 0.4772\n",
      "Epoch 53/500\n",
      "23/23 [==============================] - 0s 2ms/step - loss: 0.4963 - val_loss: 0.4751\n",
      "Epoch 54/500\n",
      "23/23 [==============================] - 0s 2ms/step - loss: 0.5273 - val_loss: 0.4716\n",
      "Epoch 55/500\n",
      "23/23 [==============================] - 0s 2ms/step - loss: 0.5225 - val_loss: 0.4725\n",
      "Epoch 56/500\n",
      "23/23 [==============================] - 0s 2ms/step - loss: 0.5127 - val_loss: 0.4725\n",
      "Epoch 57/500\n",
      "23/23 [==============================] - 0s 2ms/step - loss: 0.5208 - val_loss: 0.4724\n",
      "Epoch 58/500\n",
      "23/23 [==============================] - 0s 2ms/step - loss: 0.5177 - val_loss: 0.4732\n",
      "Epoch 59/500\n",
      "23/23 [==============================] - 0s 2ms/step - loss: 0.5091 - val_loss: 0.4709\n",
      "Epoch 60/500\n",
      "23/23 [==============================] - 0s 2ms/step - loss: 0.5081 - val_loss: 0.4735\n",
      "Epoch 61/500\n",
      "23/23 [==============================] - 0s 2ms/step - loss: 0.5125 - val_loss: 0.4719\n",
      "Epoch 62/500\n",
      "23/23 [==============================] - 0s 2ms/step - loss: 0.5078 - val_loss: 0.4668\n",
      "Epoch 63/500\n",
      "23/23 [==============================] - 0s 2ms/step - loss: 0.5026 - val_loss: 0.4662\n",
      "Epoch 64/500\n",
      "23/23 [==============================] - 0s 2ms/step - loss: 0.4975 - val_loss: 0.4647\n",
      "Epoch 65/500\n",
      "23/23 [==============================] - 0s 2ms/step - loss: 0.4830 - val_loss: 0.4669\n",
      "Epoch 66/500\n",
      "23/23 [==============================] - 0s 2ms/step - loss: 0.5154 - val_loss: 0.4675\n",
      "Epoch 67/500\n",
      "23/23 [==============================] - 0s 2ms/step - loss: 0.5146 - val_loss: 0.4664\n",
      "Epoch 68/500\n",
      "23/23 [==============================] - 0s 2ms/step - loss: 0.4952 - val_loss: 0.4677\n",
      "Epoch 69/500\n",
      "23/23 [==============================] - 0s 2ms/step - loss: 0.5048 - val_loss: 0.4682\n",
      "Epoch 70/500\n",
      "23/23 [==============================] - 0s 2ms/step - loss: 0.5018 - val_loss: 0.4631\n",
      "Epoch 71/500\n",
      "23/23 [==============================] - 0s 2ms/step - loss: 0.5202 - val_loss: 0.4698\n",
      "Epoch 72/500\n",
      "23/23 [==============================] - 0s 1ms/step - loss: 0.5018 - val_loss: 0.4676\n",
      "Epoch 73/500\n",
      "23/23 [==============================] - 0s 2ms/step - loss: 0.5025 - val_loss: 0.4664\n",
      "Epoch 74/500\n",
      "23/23 [==============================] - 0s 2ms/step - loss: 0.4741 - val_loss: 0.4614\n",
      "Epoch 75/500\n",
      "23/23 [==============================] - 0s 1ms/step - loss: 0.4971 - val_loss: 0.4581\n",
      "Epoch 76/500\n",
      "23/23 [==============================] - 0s 2ms/step - loss: 0.4832 - val_loss: 0.4561\n",
      "Epoch 77/500\n",
      "23/23 [==============================] - 0s 2ms/step - loss: 0.5024 - val_loss: 0.4575\n",
      "Epoch 78/500\n",
      "23/23 [==============================] - 0s 2ms/step - loss: 0.5062 - val_loss: 0.4586\n",
      "Epoch 79/500\n",
      "23/23 [==============================] - 0s 2ms/step - loss: 0.5073 - val_loss: 0.4603\n",
      "Epoch 80/500\n",
      "23/23 [==============================] - 0s 2ms/step - loss: 0.5016 - val_loss: 0.4571\n",
      "Epoch 81/500\n",
      "23/23 [==============================] - 0s 2ms/step - loss: 0.5115 - val_loss: 0.4609\n",
      "Epoch 82/500\n",
      "23/23 [==============================] - 0s 2ms/step - loss: 0.4899 - val_loss: 0.4653\n",
      "Epoch 83/500\n"
     ]
    },
    {
     "name": "stdout",
     "output_type": "stream",
     "text": [
      "23/23 [==============================] - 0s 1ms/step - loss: 0.4916 - val_loss: 0.4615\n",
      "Epoch 84/500\n",
      "23/23 [==============================] - 0s 2ms/step - loss: 0.4828 - val_loss: 0.4573\n",
      "Epoch 85/500\n",
      "23/23 [==============================] - 0s 2ms/step - loss: 0.5006 - val_loss: 0.4546\n",
      "Epoch 86/500\n",
      "23/23 [==============================] - 0s 1ms/step - loss: 0.4921 - val_loss: 0.4571\n",
      "Epoch 87/500\n",
      "23/23 [==============================] - 0s 1ms/step - loss: 0.5141 - val_loss: 0.4607\n",
      "Epoch 88/500\n",
      "23/23 [==============================] - 0s 1ms/step - loss: 0.4906 - val_loss: 0.4587\n",
      "Epoch 89/500\n",
      "23/23 [==============================] - 0s 1ms/step - loss: 0.4908 - val_loss: 0.4579\n",
      "Epoch 90/500\n",
      "23/23 [==============================] - 0s 1ms/step - loss: 0.5036 - val_loss: 0.4614\n",
      "Epoch 91/500\n",
      "23/23 [==============================] - 0s 1ms/step - loss: 0.4939 - val_loss: 0.4632\n",
      "Epoch 92/500\n",
      "23/23 [==============================] - 0s 1ms/step - loss: 0.4916 - val_loss: 0.4592\n",
      "Epoch 93/500\n",
      "23/23 [==============================] - 0s 1ms/step - loss: 0.4888 - val_loss: 0.4586\n",
      "Epoch 94/500\n",
      "23/23 [==============================] - 0s 1ms/step - loss: 0.4840 - val_loss: 0.4588\n",
      "Epoch 95/500\n",
      "23/23 [==============================] - 0s 1ms/step - loss: 0.5229 - val_loss: 0.4584\n",
      "Epoch 96/500\n",
      "23/23 [==============================] - 0s 2ms/step - loss: 0.5005 - val_loss: 0.4572\n",
      "Epoch 97/500\n",
      "23/23 [==============================] - 0s 1ms/step - loss: 0.5040 - val_loss: 0.4577\n",
      "Epoch 98/500\n",
      "23/23 [==============================] - 0s 2ms/step - loss: 0.4984 - val_loss: 0.4593\n",
      "Epoch 99/500\n",
      "23/23 [==============================] - 0s 2ms/step - loss: 0.4892 - val_loss: 0.4611\n",
      "Epoch 100/500\n",
      "23/23 [==============================] - 0s 2ms/step - loss: 0.4800 - val_loss: 0.4565\n",
      "Epoch 101/500\n",
      "23/23 [==============================] - 0s 2ms/step - loss: 0.5126 - val_loss: 0.4567\n",
      "Epoch 102/500\n",
      "23/23 [==============================] - 0s 2ms/step - loss: 0.4716 - val_loss: 0.4545\n",
      "Epoch 103/500\n",
      "23/23 [==============================] - 0s 2ms/step - loss: 0.4884 - val_loss: 0.4528\n",
      "Epoch 104/500\n",
      "23/23 [==============================] - 0s 1ms/step - loss: 0.4913 - val_loss: 0.4516\n",
      "Epoch 105/500\n",
      "23/23 [==============================] - 0s 1ms/step - loss: 0.4799 - val_loss: 0.4507\n",
      "Epoch 106/500\n",
      "23/23 [==============================] - 0s 2ms/step - loss: 0.4946 - val_loss: 0.4542\n",
      "Epoch 107/500\n",
      "23/23 [==============================] - 0s 1ms/step - loss: 0.4965 - val_loss: 0.4571\n",
      "Epoch 108/500\n",
      "23/23 [==============================] - 0s 2ms/step - loss: 0.5045 - val_loss: 0.4591\n",
      "Epoch 109/500\n",
      "23/23 [==============================] - 0s 2ms/step - loss: 0.4879 - val_loss: 0.4585\n",
      "Epoch 110/500\n",
      "23/23 [==============================] - 0s 2ms/step - loss: 0.4943 - val_loss: 0.4573\n",
      "Epoch 111/500\n",
      "23/23 [==============================] - 0s 2ms/step - loss: 0.5023 - val_loss: 0.4574\n",
      "Epoch 112/500\n",
      "23/23 [==============================] - 0s 2ms/step - loss: 0.4878 - val_loss: 0.4551\n",
      "Epoch 113/500\n",
      "23/23 [==============================] - 0s 1ms/step - loss: 0.4998 - val_loss: 0.4545\n",
      "Epoch 114/500\n",
      "23/23 [==============================] - 0s 2ms/step - loss: 0.4840 - val_loss: 0.4515\n",
      "Epoch 115/500\n",
      "23/23 [==============================] - 0s 2ms/step - loss: 0.4727 - val_loss: 0.4487\n",
      "Epoch 116/500\n",
      "23/23 [==============================] - 0s 2ms/step - loss: 0.4941 - val_loss: 0.4485\n",
      "Epoch 117/500\n",
      "23/23 [==============================] - 0s 2ms/step - loss: 0.4794 - val_loss: 0.4468\n",
      "Epoch 118/500\n",
      "23/23 [==============================] - 0s 2ms/step - loss: 0.4976 - val_loss: 0.4477\n",
      "Epoch 119/500\n",
      "23/23 [==============================] - 0s 2ms/step - loss: 0.4743 - val_loss: 0.4464\n",
      "Epoch 120/500\n",
      "23/23 [==============================] - 0s 2ms/step - loss: 0.4820 - val_loss: 0.4500\n",
      "Epoch 121/500\n",
      "23/23 [==============================] - 0s 2ms/step - loss: 0.4876 - val_loss: 0.4513\n",
      "Epoch 122/500\n",
      "23/23 [==============================] - 0s 2ms/step - loss: 0.4863 - val_loss: 0.4521\n",
      "Epoch 123/500\n",
      "23/23 [==============================] - 0s 2ms/step - loss: 0.5045 - val_loss: 0.4517\n",
      "Epoch 124/500\n",
      "23/23 [==============================] - 0s 2ms/step - loss: 0.4865 - val_loss: 0.4521\n",
      "Epoch 125/500\n",
      "23/23 [==============================] - 0s 2ms/step - loss: 0.4697 - val_loss: 0.4499\n",
      "Epoch 126/500\n",
      "23/23 [==============================] - 0s 2ms/step - loss: 0.4818 - val_loss: 0.4464\n",
      "Epoch 127/500\n",
      "23/23 [==============================] - 0s 2ms/step - loss: 0.4797 - val_loss: 0.4474\n",
      "Epoch 128/500\n",
      "23/23 [==============================] - 0s 2ms/step - loss: 0.5001 - val_loss: 0.4500\n",
      "Epoch 129/500\n",
      "23/23 [==============================] - 0s 2ms/step - loss: 0.4830 - val_loss: 0.4531\n",
      "Epoch 130/500\n",
      "23/23 [==============================] - 0s 2ms/step - loss: 0.4961 - val_loss: 0.4537\n",
      "Epoch 131/500\n",
      "23/23 [==============================] - 0s 2ms/step - loss: 0.4881 - val_loss: 0.4486\n",
      "Epoch 132/500\n",
      "23/23 [==============================] - 0s 1ms/step - loss: 0.4920 - val_loss: 0.4486\n",
      "Epoch 133/500\n",
      "23/23 [==============================] - 0s 1ms/step - loss: 0.4882 - val_loss: 0.4474\n",
      "Epoch 134/500\n",
      "23/23 [==============================] - 0s 1ms/step - loss: 0.4793 - val_loss: 0.4463\n",
      "Epoch 135/500\n",
      "23/23 [==============================] - 0s 1ms/step - loss: 0.4817 - val_loss: 0.4453\n",
      "Epoch 136/500\n",
      "23/23 [==============================] - 0s 1ms/step - loss: 0.4798 - val_loss: 0.4447\n",
      "Epoch 137/500\n",
      "23/23 [==============================] - 0s 1ms/step - loss: 0.4839 - val_loss: 0.4485\n",
      "Epoch 138/500\n",
      "23/23 [==============================] - 0s 1ms/step - loss: 0.4969 - val_loss: 0.4491\n",
      "Epoch 139/500\n",
      "23/23 [==============================] - 0s 1ms/step - loss: 0.4836 - val_loss: 0.4474\n",
      "Epoch 140/500\n",
      "23/23 [==============================] - 0s 1ms/step - loss: 0.4824 - val_loss: 0.4496\n",
      "Epoch 141/500\n",
      "23/23 [==============================] - 0s 1ms/step - loss: 0.4771 - val_loss: 0.4541\n",
      "Epoch 142/500\n",
      "23/23 [==============================] - 0s 1ms/step - loss: 0.4670 - val_loss: 0.4543\n",
      "Epoch 143/500\n",
      "23/23 [==============================] - 0s 1ms/step - loss: 0.4813 - val_loss: 0.4521\n",
      "Epoch 144/500\n",
      "23/23 [==============================] - 0s 1ms/step - loss: 0.4992 - val_loss: 0.4488\n",
      "Epoch 145/500\n",
      "23/23 [==============================] - 0s 1ms/step - loss: 0.4930 - val_loss: 0.4506\n",
      "Epoch 146/500\n",
      "23/23 [==============================] - 0s 2ms/step - loss: 0.4781 - val_loss: 0.4491\n",
      "Epoch 147/500\n",
      "23/23 [==============================] - 0s 2ms/step - loss: 0.4867 - val_loss: 0.4455\n",
      "Epoch 148/500\n",
      "23/23 [==============================] - 0s 2ms/step - loss: 0.4896 - val_loss: 0.4473\n",
      "Epoch 149/500\n",
      "23/23 [==============================] - 0s 2ms/step - loss: 0.4798 - val_loss: 0.4466\n",
      "Epoch 150/500\n",
      "23/23 [==============================] - 0s 2ms/step - loss: 0.5013 - val_loss: 0.4443\n",
      "Epoch 151/500\n",
      "23/23 [==============================] - 0s 2ms/step - loss: 0.4671 - val_loss: 0.4464\n",
      "Epoch 152/500\n",
      "23/23 [==============================] - 0s 1ms/step - loss: 0.4857 - val_loss: 0.4438\n",
      "Epoch 153/500\n",
      "23/23 [==============================] - 0s 1ms/step - loss: 0.4848 - val_loss: 0.4465\n",
      "Epoch 154/500\n",
      "23/23 [==============================] - 0s 1ms/step - loss: 0.4733 - val_loss: 0.4439\n",
      "Epoch 155/500\n",
      "23/23 [==============================] - 0s 1ms/step - loss: 0.4802 - val_loss: 0.4454\n",
      "Epoch 156/500\n",
      "23/23 [==============================] - 0s 1ms/step - loss: 0.4985 - val_loss: 0.4503\n",
      "Epoch 157/500\n",
      "23/23 [==============================] - 0s 1ms/step - loss: 0.5047 - val_loss: 0.4491\n",
      "Epoch 158/500\n",
      "23/23 [==============================] - 0s 1ms/step - loss: 0.4830 - val_loss: 0.4474\n",
      "Epoch 159/500\n",
      "23/23 [==============================] - 0s 1ms/step - loss: 0.4849 - val_loss: 0.4461\n",
      "Epoch 160/500\n",
      "23/23 [==============================] - 0s 1ms/step - loss: 0.4783 - val_loss: 0.4444\n",
      "Epoch 161/500\n",
      "23/23 [==============================] - 0s 1ms/step - loss: 0.4865 - val_loss: 0.4451\n",
      "Epoch 162/500\n",
      "23/23 [==============================] - 0s 1ms/step - loss: 0.4885 - val_loss: 0.4459\n",
      "Epoch 163/500\n",
      "23/23 [==============================] - 0s 1ms/step - loss: 0.4795 - val_loss: 0.4483\n",
      "Epoch 164/500\n"
     ]
    },
    {
     "name": "stdout",
     "output_type": "stream",
     "text": [
      "23/23 [==============================] - 0s 1ms/step - loss: 0.4837 - val_loss: 0.4451\n",
      "Epoch 165/500\n",
      "23/23 [==============================] - 0s 1ms/step - loss: 0.4652 - val_loss: 0.4449\n",
      "Epoch 166/500\n",
      "23/23 [==============================] - 0s 1ms/step - loss: 0.4632 - val_loss: 0.4424\n",
      "Epoch 167/500\n",
      "23/23 [==============================] - 0s 1ms/step - loss: 0.4927 - val_loss: 0.4424\n",
      "Epoch 168/500\n",
      "23/23 [==============================] - 0s 1ms/step - loss: 0.4762 - val_loss: 0.4419\n",
      "Epoch 169/500\n",
      "23/23 [==============================] - 0s 1ms/step - loss: 0.4753 - val_loss: 0.4421\n",
      "Epoch 170/500\n",
      "23/23 [==============================] - 0s 1ms/step - loss: 0.4886 - val_loss: 0.4407\n",
      "Epoch 171/500\n",
      "23/23 [==============================] - 0s 1ms/step - loss: 0.4708 - val_loss: 0.4406\n",
      "Epoch 172/500\n",
      "23/23 [==============================] - 0s 1ms/step - loss: 0.4826 - val_loss: 0.4394\n",
      "Epoch 173/500\n",
      "23/23 [==============================] - 0s 1ms/step - loss: 0.4968 - val_loss: 0.4448\n",
      "Epoch 174/500\n",
      "23/23 [==============================] - 0s 1ms/step - loss: 0.4841 - val_loss: 0.4512\n",
      "Epoch 175/500\n",
      "23/23 [==============================] - 0s 1ms/step - loss: 0.4803 - val_loss: 0.4462\n",
      "Epoch 176/500\n",
      "23/23 [==============================] - 0s 2ms/step - loss: 0.4698 - val_loss: 0.4462\n",
      "Epoch 177/500\n",
      "23/23 [==============================] - 0s 1ms/step - loss: 0.4837 - val_loss: 0.4463\n",
      "Epoch 178/500\n",
      "23/23 [==============================] - 0s 1ms/step - loss: 0.4707 - val_loss: 0.4442\n",
      "Epoch 179/500\n",
      "23/23 [==============================] - 0s 1ms/step - loss: 0.4785 - val_loss: 0.4441\n",
      "Epoch 180/500\n",
      "23/23 [==============================] - 0s 1ms/step - loss: 0.4816 - val_loss: 0.4453\n",
      "Epoch 181/500\n",
      "23/23 [==============================] - 0s 1ms/step - loss: 0.4781 - val_loss: 0.4433\n",
      "Epoch 182/500\n",
      "23/23 [==============================] - 0s 1ms/step - loss: 0.5030 - val_loss: 0.4460\n",
      "Epoch 183/500\n",
      "23/23 [==============================] - 0s 1ms/step - loss: 0.5018 - val_loss: 0.4467\n",
      "Epoch 184/500\n",
      "23/23 [==============================] - 0s 1ms/step - loss: 0.4714 - val_loss: 0.4459\n",
      "Epoch 185/500\n",
      "23/23 [==============================] - 0s 1ms/step - loss: 0.4722 - val_loss: 0.4407\n",
      "Epoch 186/500\n",
      "23/23 [==============================] - 0s 1ms/step - loss: 0.4599 - val_loss: 0.4392\n",
      "Epoch 187/500\n",
      "23/23 [==============================] - 0s 1ms/step - loss: 0.4925 - val_loss: 0.4424\n",
      "Epoch 188/500\n",
      "23/23 [==============================] - 0s 1ms/step - loss: 0.4803 - val_loss: 0.4436\n",
      "Epoch 189/500\n",
      "23/23 [==============================] - 0s 1ms/step - loss: 0.4890 - val_loss: 0.4420\n",
      "Epoch 190/500\n",
      "23/23 [==============================] - 0s 2ms/step - loss: 0.4800 - val_loss: 0.4415\n",
      "Epoch 191/500\n",
      "23/23 [==============================] - 0s 1ms/step - loss: 0.4524 - val_loss: 0.4413\n",
      "Epoch 192/500\n",
      "23/23 [==============================] - 0s 1ms/step - loss: 0.4779 - val_loss: 0.4396\n",
      "Epoch 193/500\n",
      "23/23 [==============================] - 0s 1ms/step - loss: 0.4936 - val_loss: 0.4422\n",
      "Epoch 194/500\n",
      "23/23 [==============================] - 0s 2ms/step - loss: 0.4718 - val_loss: 0.4423\n",
      "Epoch 195/500\n",
      "23/23 [==============================] - 0s 2ms/step - loss: 0.4773 - val_loss: 0.4410\n",
      "Epoch 196/500\n",
      "23/23 [==============================] - 0s 2ms/step - loss: 0.4901 - val_loss: 0.4394\n",
      "Epoch 197/500\n",
      "23/23 [==============================] - 0s 2ms/step - loss: 0.4566 - val_loss: 0.4423\n",
      "Epoch 198/500\n",
      "23/23 [==============================] - 0s 1ms/step - loss: 0.4700 - val_loss: 0.4390\n",
      "Epoch 199/500\n",
      "23/23 [==============================] - 0s 1ms/step - loss: 0.4801 - val_loss: 0.4392\n",
      "Epoch 200/500\n",
      "23/23 [==============================] - 0s 1ms/step - loss: 0.4493 - val_loss: 0.4396\n",
      "Epoch 201/500\n",
      "23/23 [==============================] - 0s 1ms/step - loss: 0.4794 - val_loss: 0.4422\n",
      "Epoch 202/500\n",
      "23/23 [==============================] - 0s 1ms/step - loss: 0.4817 - val_loss: 0.4446\n",
      "Epoch 203/500\n",
      "23/23 [==============================] - 0s 1ms/step - loss: 0.4776 - val_loss: 0.4407\n",
      "Epoch 204/500\n",
      "23/23 [==============================] - 0s 1ms/step - loss: 0.4492 - val_loss: 0.4447\n",
      "Epoch 205/500\n",
      "23/23 [==============================] - 0s 1ms/step - loss: 0.4912 - val_loss: 0.4459\n",
      "Epoch 206/500\n",
      "23/23 [==============================] - 0s 1ms/step - loss: 0.4693 - val_loss: 0.4415\n",
      "Epoch 207/500\n",
      "23/23 [==============================] - 0s 1ms/step - loss: 0.5033 - val_loss: 0.4397\n",
      "Epoch 208/500\n",
      "23/23 [==============================] - 0s 1ms/step - loss: 0.4931 - val_loss: 0.4393\n",
      "Epoch 209/500\n",
      "23/23 [==============================] - 0s 2ms/step - loss: 0.4740 - val_loss: 0.4426\n",
      "Epoch 210/500\n",
      "23/23 [==============================] - 0s 1ms/step - loss: 0.4652 - val_loss: 0.4391\n",
      "Epoch 211/500\n",
      "23/23 [==============================] - 0s 1ms/step - loss: 0.4883 - val_loss: 0.4369\n",
      "Epoch 212/500\n",
      "23/23 [==============================] - 0s 1ms/step - loss: 0.4659 - val_loss: 0.4376\n",
      "Epoch 213/500\n",
      "23/23 [==============================] - 0s 1ms/step - loss: 0.4797 - val_loss: 0.4395\n",
      "Epoch 214/500\n",
      "23/23 [==============================] - 0s 1ms/step - loss: 0.4606 - val_loss: 0.4386\n",
      "Epoch 215/500\n",
      "23/23 [==============================] - 0s 1ms/step - loss: 0.4723 - val_loss: 0.4331\n",
      "Epoch 216/500\n",
      "23/23 [==============================] - 0s 1ms/step - loss: 0.4912 - val_loss: 0.4323\n",
      "Epoch 217/500\n",
      "23/23 [==============================] - 0s 1ms/step - loss: 0.4793 - val_loss: 0.4343\n",
      "Epoch 218/500\n",
      "23/23 [==============================] - 0s 1ms/step - loss: 0.4685 - val_loss: 0.4409\n",
      "Epoch 219/500\n",
      "23/23 [==============================] - 0s 1ms/step - loss: 0.4810 - val_loss: 0.4405\n",
      "Epoch 220/500\n",
      "23/23 [==============================] - 0s 1ms/step - loss: 0.4850 - val_loss: 0.4396\n",
      "Epoch 221/500\n",
      "23/23 [==============================] - 0s 1ms/step - loss: 0.4595 - val_loss: 0.4398\n",
      "Epoch 222/500\n",
      "23/23 [==============================] - 0s 1ms/step - loss: 0.4763 - val_loss: 0.4370\n",
      "Epoch 223/500\n",
      "23/23 [==============================] - 0s 1ms/step - loss: 0.4665 - val_loss: 0.4346\n",
      "Epoch 224/500\n",
      "23/23 [==============================] - 0s 1ms/step - loss: 0.4718 - val_loss: 0.4370\n",
      "Epoch 225/500\n",
      "23/23 [==============================] - 0s 1ms/step - loss: 0.4880 - val_loss: 0.4350\n",
      "Epoch 226/500\n",
      "23/23 [==============================] - 0s 1ms/step - loss: 0.4884 - val_loss: 0.4343\n",
      "Epoch 227/500\n",
      "23/23 [==============================] - 0s 1ms/step - loss: 0.4758 - val_loss: 0.4352\n",
      "Epoch 228/500\n",
      "23/23 [==============================] - 0s 1ms/step - loss: 0.4667 - val_loss: 0.4346\n",
      "Epoch 229/500\n",
      "23/23 [==============================] - 0s 1ms/step - loss: 0.4755 - val_loss: 0.4359\n",
      "Epoch 230/500\n",
      "23/23 [==============================] - 0s 1ms/step - loss: 0.4849 - val_loss: 0.4370\n",
      "Epoch 231/500\n",
      "23/23 [==============================] - 0s 1ms/step - loss: 0.4731 - val_loss: 0.4326\n",
      "Epoch 232/500\n",
      "23/23 [==============================] - 0s 1ms/step - loss: 0.4643 - val_loss: 0.4323\n",
      "Epoch 233/500\n",
      "23/23 [==============================] - 0s 1ms/step - loss: 0.4600 - val_loss: 0.4314\n",
      "Epoch 234/500\n",
      "23/23 [==============================] - 0s 1ms/step - loss: 0.4740 - val_loss: 0.4298\n",
      "Epoch 235/500\n",
      "23/23 [==============================] - 0s 1ms/step - loss: 0.4852 - val_loss: 0.4327\n",
      "Epoch 236/500\n",
      "23/23 [==============================] - 0s 1ms/step - loss: 0.4959 - val_loss: 0.4392\n",
      "Epoch 237/500\n",
      "23/23 [==============================] - 0s 1ms/step - loss: 0.4885 - val_loss: 0.4435\n",
      "Epoch 238/500\n",
      "23/23 [==============================] - 0s 1ms/step - loss: 0.4800 - val_loss: 0.4403\n",
      "Epoch 239/500\n",
      "23/23 [==============================] - 0s 1ms/step - loss: 0.4766 - val_loss: 0.4386\n",
      "Epoch 240/500\n",
      "23/23 [==============================] - 0s 2ms/step - loss: 0.4966 - val_loss: 0.4366\n",
      "Epoch 241/500\n",
      "23/23 [==============================] - 0s 2ms/step - loss: 0.4661 - val_loss: 0.4368\n",
      "Epoch 242/500\n",
      "23/23 [==============================] - 0s 2ms/step - loss: 0.4859 - val_loss: 0.4366\n",
      "Epoch 243/500\n",
      "23/23 [==============================] - 0s 1ms/step - loss: 0.4884 - val_loss: 0.4379\n",
      "Epoch 244/500\n",
      "23/23 [==============================] - 0s 1ms/step - loss: 0.4854 - val_loss: 0.4383\n",
      "Epoch 245/500\n"
     ]
    },
    {
     "name": "stdout",
     "output_type": "stream",
     "text": [
      "23/23 [==============================] - 0s 1ms/step - loss: 0.4670 - val_loss: 0.4358\n",
      "Epoch 246/500\n",
      "23/23 [==============================] - 0s 1ms/step - loss: 0.4815 - val_loss: 0.4354\n",
      "Epoch 247/500\n",
      "23/23 [==============================] - 0s 1ms/step - loss: 0.4608 - val_loss: 0.4339\n",
      "Epoch 248/500\n",
      "23/23 [==============================] - 0s 1ms/step - loss: 0.4688 - val_loss: 0.4308\n",
      "Epoch 249/500\n",
      "23/23 [==============================] - 0s 1ms/step - loss: 0.4736 - val_loss: 0.4328\n",
      "Epoch 250/500\n",
      "23/23 [==============================] - 0s 1ms/step - loss: 0.4859 - val_loss: 0.4348\n",
      "Epoch 251/500\n",
      "23/23 [==============================] - 0s 1ms/step - loss: 0.4810 - val_loss: 0.4389\n",
      "Epoch 252/500\n",
      "23/23 [==============================] - 0s 1ms/step - loss: 0.4701 - val_loss: 0.4351\n",
      "Epoch 253/500\n",
      "23/23 [==============================] - 0s 1ms/step - loss: 0.4621 - val_loss: 0.4336\n",
      "Epoch 254/500\n",
      "23/23 [==============================] - 0s 1ms/step - loss: 0.4757 - val_loss: 0.4316\n",
      "Epoch 255/500\n",
      "23/23 [==============================] - 0s 1ms/step - loss: 0.4975 - val_loss: 0.4327\n",
      "Epoch 256/500\n",
      "23/23 [==============================] - 0s 2ms/step - loss: 0.4679 - val_loss: 0.4322\n",
      "Epoch 257/500\n",
      "23/23 [==============================] - 0s 1ms/step - loss: 0.4789 - val_loss: 0.4314\n",
      "Epoch 258/500\n",
      "23/23 [==============================] - 0s 1ms/step - loss: 0.4828 - val_loss: 0.4342\n",
      "Epoch 259/500\n",
      "23/23 [==============================] - 0s 1ms/step - loss: 0.4868 - val_loss: 0.4389\n",
      "Epoch 259: early stopping\n"
     ]
    },
    {
     "data": {
      "text/plain": [
       "<keras.callbacks.History at 0x7fc04e6963d0>"
      ]
     },
     "execution_count": 24,
     "metadata": {},
     "output_type": "execute_result"
    }
   ],
   "source": [
    "model.fit(x=X_train, \n",
    "          y=y_train, \n",
    "          epochs=500,\n",
    "          validation_data=(X_test, y_test), verbose=1,\n",
    "          callbacks=[early_stop]\n",
    "          )"
   ]
  },
  {
   "cell_type": "markdown",
   "id": "acc718f9",
   "metadata": {},
   "source": [
    "#### a li'l noisy, but lookin' good! B)"
   ]
  },
  {
   "cell_type": "code",
   "execution_count": 25,
   "id": "1201a4ed",
   "metadata": {},
   "outputs": [
    {
     "data": {
      "text/plain": [
       "<AxesSubplot:>"
      ]
     },
     "execution_count": 25,
     "metadata": {},
     "output_type": "execute_result"
    },
    {
     "data": {
      "image/png": "[encoded data removed]",
      "text/plain": [
       "<Figure size 432x288 with 1 Axes>"
      ]
     },
     "metadata": {},
     "output_type": "display_data"
    }
   ],
   "source": [
    "model_loss = pd.DataFrame(model.history.history)\n",
    "model_loss.plot()"
   ]
  },
  {
   "cell_type": "code",
   "execution_count": 27,
   "id": "073d004b",
   "metadata": {},
   "outputs": [],
   "source": [
    "from sklearn.metrics import classification_report,confusion_matrix"
   ]
  },
  {
   "cell_type": "code",
   "execution_count": 28,
   "id": "6d5cd564",
   "metadata": {},
   "outputs": [],
   "source": [
    "preds = model.predict(X_test)"
   ]
  },
  {
   "cell_type": "markdown",
   "id": "68e71996",
   "metadata": {},
   "source": [
    "#### Keras no longer has an option to predict a binary class, so we have to transform the array of probabilities manually by assigning anything below 0.5 to class 0 and above to class 1"
   ]
  },
  {
   "cell_type": "code",
   "execution_count": 30,
   "id": "7f49f01e",
   "metadata": {},
   "outputs": [],
   "source": [
    "preds = np.where(preds > 0.5, 1,0)"
   ]
  },
  {
   "cell_type": "markdown",
   "id": "8c899f8e",
   "metadata": {},
   "source": [
    "#### How'd this bb actually perform?"
   ]
  },
  {
   "cell_type": "code",
   "execution_count": 31,
   "id": "f572da24",
   "metadata": {},
   "outputs": [
    {
     "name": "stdout",
     "output_type": "stream",
     "text": [
      "              precision    recall  f1-score   support\n",
      "\n",
      "           0       0.79      0.98      0.87        99\n",
      "           1       0.96      0.68      0.79        80\n",
      "\n",
      "    accuracy                           0.84       179\n",
      "   macro avg       0.88      0.83      0.83       179\n",
      "weighted avg       0.87      0.84      0.84       179\n",
      "\n"
     ]
    }
   ],
   "source": [
    "print(classification_report(y_test,preds))"
   ]
  },
  {
   "cell_type": "code",
   "execution_count": 32,
   "id": "636c8049",
   "metadata": {},
   "outputs": [
    {
     "name": "stdout",
     "output_type": "stream",
     "text": [
      "[[97  2]\n",
      " [26 54]]\n"
     ]
    }
   ],
   "source": [
    "print(confusion_matrix(y_test,preds))"
   ]
  },
  {
   "cell_type": "markdown",
   "id": "f21ec8ad",
   "metadata": {},
   "source": [
    "#### Not too shabby! Wrap it up!"
   ]
  },
  {
   "cell_type": "code",
   "execution_count": 33,
   "id": "0f0516b0",
   "metadata": {},
   "outputs": [],
   "source": [
    "final_preds = model.predict(test)"
   ]
  },
  {
   "cell_type": "code",
   "execution_count": null,
   "id": "7658d012",
   "metadata": {},
   "outputs": [],
   "source": [
    "final_preds = pd.DataFrame(np.where(final_preds > 0.5, 1,0), columns=['Survived'])"
   ]
  }
 ],
 "metadata": {
  "kernelspec": {
   "display_name": "Python 3 (ipykernel)",
   "language": "python",
   "name": "python3"
  },
  "language_info": {
   "codemirror_mode": {
    "name": "ipython",
    "version": 3
   },
   "file_extension": ".py",
   "mimetype": "text/x-python",
   "name": "python",
   "nbconvert_exporter": "python",
   "pygments_lexer": "ipython3",
   "version": "3.9.7"
  },
  "papermill": {
   "default_parameters": {},
   "duration": 12.590793,
   "end_time": "2022-04-07T17:14:53.369547",
   "environment_variables": {},
   "exception": null,
   "input_path": "__notebook__.ipynb",
   "output_path": "__notebook__.ipynb",
   "parameters": {},
   "start_time": "2022-04-07T17:14:40.778754",
   "version": "2.3.3"
  }
 },
 "nbformat": 4,
 "nbformat_minor": 5
}
